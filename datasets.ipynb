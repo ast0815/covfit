{
 "cells": [
  {
   "cell_type": "code",
   "execution_count": 1,
   "metadata": {},
   "outputs": [],
   "source": [
    "# Function to generate data sets\n",
    "import numpy as np\n",
    "\n",
    "def dataset(N_dim=2, N_points=10000, cor=0.0, offset=0.):\n",
    "    \"\"\"Generate multivariate normal data\"\"\"\n",
    "    #cov = np.random.normal(size=(N_dim,N_dim))\n",
    "    #cov /= np.sqrt(np.sum(cov**2, axis=0, keepdims=True))\n",
    "    #cov = cov.T.dot(cov)\n",
    "    cov = np.full((N_dim,N_dim), cor)\n",
    "    np.fill_diagonal(cov, 1)\n",
    "    return np.random.multivariate_normal(mean=np.zeros(N_dim), cov=cov, size=N_points) + offset"
   ]
  },
  {
   "cell_type": "code",
   "execution_count": 2,
   "metadata": {},
   "outputs": [],
   "source": [
    "# Default data sets\n",
    "\n",
    "N_DIM = 10\n",
    "N_POINTS = 1000000\n",
    "def default_sets(N_dim=N_DIM):\n",
    "    sets = {\n",
    "        \"Uncorr.\": (N_dim, N_POINTS, 0.0, 0.0),\n",
    "        \"Corr.50\": (N_dim, N_POINTS, 0.5, 0.0),\n",
    "        \"Corr.90\": (N_dim, N_POINTS, 0.9, 0.0),\n",
    "        \"Corr.99\": (N_dim, N_POINTS, 0.99, 0.0),\n",
    "    }\n",
    "    keys = list(sets.keys())\n",
    "    for k in keys:\n",
    "        sets[k] = dataset(*sets[k])\n",
    "    return sets"
   ]
  },
  {
   "cell_type": "code",
   "execution_count": 3,
   "metadata": {},
   "outputs": [],
   "source": [
    "#print(default_sets())"
   ]
  },
  {
   "cell_type": "code",
   "execution_count": null,
   "metadata": {},
   "outputs": [],
   "source": []
  }
 ],
 "metadata": {
  "kernelspec": {
   "display_name": "Python 3",
   "language": "python",
   "name": "python3"
  },
  "language_info": {
   "codemirror_mode": {
    "name": "ipython",
    "version": 3
   },
   "file_extension": ".py",
   "mimetype": "text/x-python",
   "name": "python",
   "nbconvert_exporter": "python",
   "pygments_lexer": "ipython3",
   "version": "3.7.3"
  }
 },
 "nbformat": 4,
 "nbformat_minor": 4
}
