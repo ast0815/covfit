{
 "cells": [
  {
   "cell_type": "code",
   "execution_count": 1,
   "metadata": {},
   "outputs": [],
   "source": [
    "# Function to generate data sets\n",
    "import numpy as np\n",
    "from scipy.linalg import block_diag\n",
    "\n",
    "def dataset(N_dim=2, N_points=10000, cor=0.0, offset=0., type=\"full\", blocks=None):\n",
    "    \"\"\"Generate multivariate normal data\"\"\"\n",
    "    if blocks is None:\n",
    "        blocks = [int(np.floor(N_dim/2)), int(np.ceil(N_dim/2))]\n",
    "        \n",
    "    if type == \"block\":\n",
    "        # Split correlations into independent blocks\n",
    "        cov = block_diag(*[np.full((n,n), cor) for n in blocks])\n",
    "    elif type == \"antiblock\":\n",
    "        # Split correlations into identity blocks with correlation between them\n",
    "        covs = []\n",
    "        i = 0\n",
    "        for blk_i in blocks:\n",
    "            j = 0\n",
    "            covs.append([])\n",
    "            for blk_j in blocks:\n",
    "                if i == j:\n",
    "                    covs[-1].append(np.eye(blocks[i]))\n",
    "                else:\n",
    "                    covs[-1].append(np.full((blocks[i], blocks[j]), 1./max(blocks[i], blocks[j])))\n",
    "                j += 1\n",
    "            i += 1\n",
    "            \n",
    "        cov = np.block(covs)\n",
    "    elif type == \"diagblock\":\n",
    "        # Split correlations into identity blocks with diagonal correlation between them\n",
    "        covs = []\n",
    "        i = 0\n",
    "        for blk_i in blocks:\n",
    "            j = 0\n",
    "            covs.append([])\n",
    "            for blk_j in blocks:\n",
    "                if i == j:\n",
    "                    covs[-1].append(np.eye(blocks[i]))\n",
    "                else:\n",
    "                    covs[-1].append(np.eye(blocks[i], blocks[j]) * cor)\n",
    "                j += 1\n",
    "            i += 1\n",
    "            \n",
    "        cov = np.block(covs)\n",
    "    elif type == \"linear\":\n",
    "        # Linearly decreasing correlation to neighbours\n",
    "        cov = np.zeros((N_dim,N_dim))\n",
    "        for i, c in enumerate(np.linspace(cor, -cor/2, N_dim-1)):\n",
    "            cov += np.diag([c]*(N_dim-(i+1)), i+1)\n",
    "        cov += cov.T\n",
    "    elif type == \"exp\":\n",
    "        # Exponentially decreasing correlation to neighbours\n",
    "        cov = np.zeros((N_dim,N_dim))\n",
    "        cors = cor ** (np.arange(N_dim-1) + 1)\n",
    "        for i, c in enumerate(cors):\n",
    "            cov += np.diag([c]*(N_dim-(i+1)), i+1)\n",
    "        cov += cov.T\n",
    "    elif type == \"full\":\n",
    "        # Full identical correlation\n",
    "        cov = np.full((N_dim,N_dim), cor)\n",
    "    np.fill_diagonal(cov, 1)\n",
    "    \n",
    "    rng = np.random.default_rng()\n",
    "    return rng.multivariate_normal(mean=np.zeros(N_dim), cov=cov, size=N_points) + offset"
   ]
  },
  {
   "cell_type": "code",
   "execution_count": 2,
   "metadata": {},
   "outputs": [],
   "source": [
    "# Default data sets\n",
    "\n",
    "N_DIM = 10\n",
    "N_POINTS = 1000000\n",
    "def default_sets(N_dim=N_DIM, N_points=N_POINTS, type=\"full\", blocks=None):\n",
    "    sets = {\n",
    "        \"Uncorr.\": (N_dim, N_points, 0.0,  0.0),\n",
    "        \"Corr.50\": (N_dim, N_points, 0.5,  0.0),\n",
    "        \"Corr.90\": (N_dim, N_points, 0.9,  0.0),\n",
    "        \"Corr.99\": (N_dim, N_points, 0.99, 0.0),\n",
    "    }\n",
    "    keys = list(sets.keys())\n",
    "    for k in keys:\n",
    "        sets[k] = dataset(*sets[k], type=type, blocks=blocks)\n",
    "    return sets"
   ]
  },
  {
   "cell_type": "code",
   "execution_count": 3,
   "metadata": {},
   "outputs": [],
   "source": [
    "#print(default_sets(type=\"exp\"))"
   ]
  },
  {
   "cell_type": "code",
   "execution_count": 27,
   "metadata": {},
   "outputs": [],
   "source": [
    "from scipy.stats import special_ortho_group\n",
    "\n",
    "def generate_covariance(identity_blocks=[1]*N_DIM):\n",
    "    \"\"\"Generate a random covariance matrix with the given sizes of block identity matrices on the diagonal.\"\"\"\n",
    "    \n",
    "    ndim = np.sum(identity_blocks)\n",
    "    B = np.eye(ndim)\n",
    "    i = 0\n",
    "    # random rotations\n",
    "    rot_gen = special_ortho_group(ndim)\n",
    "    for k in identity_blocks:\n",
    "        # random rotation matrix\n",
    "        R = rot_gen.rvs()\n",
    "        B[:,i:i+k] = R @ B[:,i:i+k]\n",
    "        i += k\n",
    "    \n",
    "    return B.T @ B"
   ]
  },
  {
   "cell_type": "code",
   "execution_count": 30,
   "metadata": {},
   "outputs": [
    {
     "data": {
      "text/plain": [
       "<matplotlib.image.AxesImage at 0x7f79d0180220>"
      ]
     },
     "execution_count": 30,
     "metadata": {},
     "output_type": "execute_result"
    },
    {
     "data": {
      "image/png": "[encoded data removed]",
      "text/plain": [
       "<Figure size 288x288 with 1 Axes>"
      ]
     },
     "metadata": {
      "needs_background": "light"
     },
     "output_type": "display_data"
    }
   ],
   "source": [
    "from matplotlib import pyplot as plt\n",
    "C = generate_covariance([5,1,3,2])\n",
    "v_max = np.max(np.abs(C))\n",
    "plt.matshow(C, vmin=-v_max, vmax=v_max, cmap=\"bwr\", )"
   ]
  },
  {
   "cell_type": "code",
   "execution_count": null,
   "metadata": {},
   "outputs": [],
   "source": []
  }
 ],
 "metadata": {
  "kernelspec": {
   "display_name": "Python 3 (ipykernel)",
   "language": "python",
   "name": "python3"
  },
  "language_info": {
   "codemirror_mode": {
    "name": "ipython",
    "version": 3
   },
   "file_extension": ".py",
   "mimetype": "text/x-python",
   "name": "python",
   "nbconvert_exporter": "python",
   "pygments_lexer": "ipython3",
   "version": "3.8.10"
  }
 },
 "nbformat": 4,
 "nbformat_minor": 4
}
