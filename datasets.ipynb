{
 "cells": [
  {
   "cell_type": "code",
   "execution_count": 1,
   "metadata": {},
   "outputs": [],
   "source": [
    "# Function to generate data sets\n",
    "import numpy as np\n",
    "from scipy.linalg import block_diag\n",
    "\n",
    "def dataset(N_dim=2, N_points=10000, cor=0.0, offset=0., type=\"full\"):\n",
    "    \"\"\"Generate multivariate normal data\"\"\"\n",
    "    if type == \"block\":\n",
    "        # Split correlations in two independent blocks\n",
    "        N1 = int(np.floor(N_dim/2))\n",
    "        N2 = int(np.ceil(N_dim/2))\n",
    "        cov = block_diag(\n",
    "            np.full((N1,N1), cor),\n",
    "            np.full((N1,N2), cor)\n",
    "        )\n",
    "    elif type == \"linear\":\n",
    "        # Linearly decreasing correlation to neighbours\n",
    "        cov = np.zeros((N_dim,N_dim))\n",
    "        for i, c in enumerate(np.linspace(cor, -cor/2, N_dim-1)):\n",
    "            cov += np.diag([c]*(N_dim-(i+1)), i+1)\n",
    "        cov += cov.T\n",
    "    elif type == \"exp\":\n",
    "        # Exponentially decreasing correlation to neighbours\n",
    "        cov = np.zeros((N_dim,N_dim))\n",
    "        cors = cor ** (np.arange(N_dim-1) + 1)\n",
    "        for i, c in enumerate(cors):\n",
    "            cov += np.diag([c]*(N_dim-(i+1)), i+1)\n",
    "        cov += cov.T\n",
    "    elif type == \"full\":\n",
    "        # Full identical correlation\n",
    "        cov = np.full((N_dim,N_dim), cor)\n",
    "    np.fill_diagonal(cov, 1)\n",
    "    \n",
    "    rng = np.random.default_rng()\n",
    "    return rng.multivariate_normal(mean=np.zeros(N_dim), cov=cov, size=N_points) + offset"
   ]
  },
  {
   "cell_type": "code",
   "execution_count": 2,
   "metadata": {},
   "outputs": [],
   "source": [
    "# Default data sets\n",
    "\n",
    "N_DIM = 10\n",
    "N_POINTS = 1000000\n",
    "def default_sets(N_dim=N_DIM, N_points=N_POINTS, type=\"full\"):\n",
    "    sets = {\n",
    "        \"Uncorr.\": (N_dim, N_points, 0.0,  0.0),\n",
    "        \"Corr.50\": (N_dim, N_points, 0.5,  0.0),\n",
    "        \"Corr.90\": (N_dim, N_points, 0.9,  0.0),\n",
    "        \"Corr.99\": (N_dim, N_points, 0.99, 0.0),\n",
    "    }\n",
    "    keys = list(sets.keys())\n",
    "    for k in keys:\n",
    "        sets[k] = dataset(*sets[k], type=type)\n",
    "    return sets"
   ]
  },
  {
   "cell_type": "code",
   "execution_count": 5,
   "metadata": {},
   "outputs": [],
   "source": [
    "#print(default_sets(type=\"exp\"))"
   ]
  },
  {
   "cell_type": "code",
   "execution_count": null,
   "metadata": {},
   "outputs": [],
   "source": []
  }
 ],
 "metadata": {
  "kernelspec": {
   "display_name": "Python 3",
   "language": "python",
   "name": "python3"
  },
  "language_info": {
   "codemirror_mode": {
    "name": "ipython",
    "version": 3
   },
   "file_extension": ".py",
   "mimetype": "text/x-python",
   "name": "python",
   "nbconvert_exporter": "python",
   "pygments_lexer": "ipython3",
   "version": "3.7.3"
  }
 },
 "nbformat": 4,
 "nbformat_minor": 4
}
