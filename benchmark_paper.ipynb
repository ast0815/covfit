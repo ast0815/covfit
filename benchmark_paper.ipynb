{
 "cells": [
  {
   "cell_type": "code",
   "execution_count": 1,
   "id": "f6ff5a4f-6e55-41d2-b56e-8f354a2cac21",
   "metadata": {},
   "outputs": [],
   "source": [
    "import numpy as np\n",
    "import pandas as pd\n",
    "from nustattools.stats import DF, cee, cee2\n",
    "from scipy.stats import chi2\n",
    "\n",
    "# https://arxiv.org/abs/2407.10962"
   ]
  },
  {
   "cell_type": "code",
   "execution_count": 2,
   "id": "62bdd4de-d809-4f86-92f1-84ca3e043e74",
   "metadata": {},
   "outputs": [
    {
     "data": {
      "text/plain": [
       "0.12506796951321578"
      ]
     },
     "execution_count": 2,
     "metadata": {},
     "output_type": "execute_result"
    }
   ],
   "source": [
    "cee2(k=DF(1, 2, 3)).pdf(1)"
   ]
  },
  {
   "cell_type": "code",
   "execution_count": 3,
   "id": "439cb948-2207-46ef-bb4b-c4707cf2f404",
   "metadata": {},
   "outputs": [
    {
     "data": {
      "text/plain": [
       "0.2501359390297275"
      ]
     },
     "execution_count": 3,
     "metadata": {},
     "output_type": "execute_result"
    }
   ],
   "source": [
    "cee(k=DF(1, 2, 3)).pdf(1)"
   ]
  },
  {
   "cell_type": "code",
   "execution_count": 4,
   "id": "9cd24cb5-39ab-4d67-bb37-49db55df7ffe",
   "metadata": {},
   "outputs": [
    {
     "data": {
      "text/plain": [
       "0        NaN\n",
       "1      85.55\n",
       "2        NaN\n",
       "3     415.29\n",
       "4     549.46\n",
       "5       5.33\n",
       "6      31.52\n",
       "7      16.06\n",
       "8      16.06\n",
       "9      25.32\n",
       "10     20.78\n",
       "Name: RFG, dtype: float64"
      ]
     },
     "execution_count": 4,
     "metadata": {},
     "output_type": "execute_result"
    }
   ],
   "source": [
    "data = pd.read_csv(\"benchmark.csv\")\n",
    "combinations = {\n",
    "    \"T2K\": (\"T2K dalphat\", \"T2K dpt\"),\n",
    "    \"MINERvA\": (\"MINERvA dalphat\", \"MINERvA dpt\", \"MINERvA p_N\"),\n",
    "    \"MicroBooNE\": (\"MicroBooNE dalphat\", \"MicroBooNE dpt\"),\n",
    "    \"MicroBooNE all\": (\n",
    "        \"MicroBooNE\",\n",
    "        \"MicroBooNE dpt low dalphat\",\n",
    "        \"MicroBooNE dpt mid-low dalphat\",\n",
    "        \"MicroBooNE dpt mid-high dalphat\",\n",
    "        \"MicroBooNE dpt high dalphat\",\n",
    "    ),\n",
    "    \"T2K+MicroBooNE\": (\"T2K\", \"MicroBooNE\"),\n",
    "    \"T2K+MicroBooNE all\": (\"T2K\", \"MicroBooNE all\"),\n",
    "    \"all\": (\"T2K\", \"MicroBooNE all\", \"MINERvA\"),\n",
    "}\n",
    "results = {}\n",
    "n_bins = {}\n",
    "data[\"RFG\"]"
   ]
  },
  {
   "cell_type": "code",
   "execution_count": 5,
   "id": "98001fb9-aa77-4620-96bb-4ad45006878d",
   "metadata": {},
   "outputs": [
    {
     "name": "stdout",
     "output_type": "stream",
     "text": [
      "SF/SF*\n",
      "LFG\n",
      "RFG\n",
      "More 2p2h\n",
      "More FSI\n",
      "Less FSI\n",
      "More pi abs.\n",
      "Less pi abs.\n",
      "GENIE\n"
     ]
    }
   ],
   "source": [
    "def get_measurements(combo):\n",
    "    measurements_list = []\n",
    "    for meas in combinations[combo]:\n",
    "        if meas in combinations:\n",
    "            measurements_list.extend(get_measurements(meas))\n",
    "        else:\n",
    "            measurements_list.append(meas)\n",
    "    return measurements_list\n",
    "\n",
    "\n",
    "for model in data.columns:\n",
    "    if model in (\"Measurement\", \"N_bins\"):\n",
    "        continue\n",
    "    print(model)\n",
    "    res = {}\n",
    "    bins = {}\n",
    "    for combo in combinations:\n",
    "        measurements = get_measurements(combo)\n",
    "\n",
    "        # Get measurements that should be combined\n",
    "        dat = data.loc[data[\"Measurement\"].isin(measurements)]\n",
    "        # Filter out NaNs\n",
    "        dat = dat.loc[dat[model].notnull()]\n",
    "\n",
    "        # At least 2 data points left?\n",
    "        if len(dat.index) < 2:\n",
    "            continue\n",
    "\n",
    "        # Get maximum M2\n",
    "        M2 = dat[model].max()\n",
    "        # Get dof of all measurements\n",
    "        k = DF(*dat[\"N_bins\"].to_list())\n",
    "\n",
    "        # Calculate and store p value\n",
    "        res[combo] = cee2(k=k).sf(M2)\n",
    "        bins[combo] = dat[\"N_bins\"].to_list()\n",
    "\n",
    "    if len(res) > 0:\n",
    "        results[model] = res\n",
    "        n_bins[model] = bins"
   ]
  },
  {
   "cell_type": "code",
   "execution_count": 6,
   "id": "6113c849-68c3-450c-9fd4-c3be90c9e9e4",
   "metadata": {},
   "outputs": [
    {
     "name": "stdout",
     "output_type": "stream",
     "text": [
      "Measurements & SF/SF* & LFG & RFG & More 2p2h & More FSI & Less FSI & GENIE \\\\\n",
      "\\hline\n",
      "T2K & 0.024 (2) &  &  &  & 0.009 (2) & 0.032 (2) &  \\\\\n",
      "MINERvA & 0.000 (2) & 0.000 (2) & 0.000 (2) &  &  &  &  \\\\\n",
      "MicroBooNE & 0.127 (2) & 0.452 (2) & 0.003 (2) &  & 0.251 (2) & 0.021 (2) &  \\\\\n",
      "MicroBooNE all & 0.135 (6) & 0.456 (6) & 0.011 (6) & 0.421 (5) & 0.312 (6) & 0.021 (6) & 0.569 (5) \\\\\n",
      "T2K+MicroBooNE & 0.133 (4) & 0.506 (3) & 0.000 (3) & 0.001 (2) & 0.061 (4) & 0.024 (4) & 0.808 (2) \\\\\n",
      "T2K+MicroBooNE all & 0.140 (8) & 0.466 (7) & 0.000 (7) & 0.004 (6) & 0.200 (8) & 0.021 (8) & 0.580 (6) \\\\\n",
      "all & 0.000 (10) & 0.000 (9) & 0.000 (9) & 0.000 (7) & 0.000 (9) & 0.000 (9) & 0.002 (7) \\\\\n"
     ]
    }
   ],
   "source": [
    "models = list(results.keys())\n",
    "\n",
    "print(\"Measurements & \" + \" & \".join(models) + r\" \\\\\")\n",
    "print(r\"\\hline\")\n",
    "for comb in combinations:\n",
    "    line = rf\"{comb}\"\n",
    "    for model in models:\n",
    "        if comb in results[model]:\n",
    "            line += rf\" & {results[model][comb]:.3f} ({len(n_bins[model][comb])})\"\n",
    "        else:\n",
    "            line += rf\" & \"\n",
    "    line += r\" \\\\\"\n",
    "    print(line)"
   ]
  },
  {
   "cell_type": "code",
   "execution_count": null,
   "id": "cd712fd4-2549-4ee0-aab6-b42c34ad1d7c",
   "metadata": {},
   "outputs": [],
   "source": []
  },
  {
   "cell_type": "code",
   "execution_count": null,
   "id": "fe62f939-52a3-4733-9b03-4e405a87d7d3",
   "metadata": {},
   "outputs": [],
   "source": []
  }
 ],
 "metadata": {
  "kernelspec": {
   "display_name": "Python 3 (ipykernel)",
   "language": "python",
   "name": "python3"
  },
  "language_info": {
   "codemirror_mode": {
    "name": "ipython",
    "version": 3
   },
   "file_extension": ".py",
   "mimetype": "text/x-python",
   "name": "python",
   "nbconvert_exporter": "python",
   "pygments_lexer": "ipython3",
   "version": "3.8.10"
  }
 },
 "nbformat": 4,
 "nbformat_minor": 5
}
