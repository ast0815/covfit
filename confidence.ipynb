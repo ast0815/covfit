{
 "cells": [
  {
   "cell_type": "code",
   "execution_count": 1,
   "metadata": {},
   "outputs": [],
   "source": [
    "from ipynb.fs.defs.covfit import *"
   ]
  },
  {
   "cell_type": "code",
   "execution_count": 2,
   "metadata": {},
   "outputs": [],
   "source": [
    "# 2D confidence contours\n",
    "%matplotlib widget\n",
    "from matplotlib import pyplot as plt\n",
    "from scipy.stats import chi2, multivariate_normal\n",
    "\n",
    "x = np.linspace(-4.0, 4.0, 500)\n",
    "y = np.linspace(-4.0, 4.0, 500)\n",
    "xx, yy = np.meshgrid(x, y)\n",
    "data = np.concatenate((xx[...,np.newaxis], yy[...,np.newaxis]), axis=-1)\n",
    "\n",
    "CL = [.30, .68, .95, .997]\n",
    "l2 = chi2.ppf(CL, df=2)\n",
    "l1 = chi2.ppf(CL, df=1)\n",
    "\n",
    "plt.ioff()\n",
    "fig, ax = plt.subplots(figsize=(4,4))\n",
    "plt.ion()\n",
    "fig.tight_layout()\n",
    "ax.set_aspect(\"equal\")\n",
    "cmap = \"winter\"\n",
    "cont = {}\n",
    "zz = naive(data)\n",
    "cont[\"naive\"] = ax.contour(xx, yy, zz, levels=l2, cmap=cmap, linestyles=\"solid\")\n",
    "\n",
    "zz = scaled(data, 2)\n",
    "cont[\"fitted\"] = ax.contour(xx, yy, zz, levels=l1, cmap=cmap, linestyles=\"dashdot\")\n",
    "\n",
    "zz = invariant1(data)\n",
    "cont[\"invariant 1\"] = ax.contour(xx, yy, zz, levels=l1, cmap=cmap, linestyles=\"dashed\")\n",
    "\n",
    "zz = invariant2(data)\n",
    "cont[\"invariant 2\"] = ax.contour(xx, yy, zz, levels=l1, cmap=cmap, linestyles=\"dotted\")\n",
    "\n",
    "zz = invariant3(data, alpha=0.7)\n",
    "cont[\"invariant 3\"] = ax.contour(xx, yy, zz, levels=l1, cmap=cmap, linestyles=[(0,(3,1,1,1,1,1))])\n",
    "\n",
    "# Add some \"data\"\n",
    "cmap = \"YlOrRd\"\n",
    "dat = {}\n",
    "dist = multivariate_normal(mean=[0,0], cov=[[1,0],[0,1]])\n",
    "zz = dist.pdf(data)\n",
    "dat[\"0% corr\"] = ax.contourf(xx, yy, zz, cmap=cmap)\n",
    "\n",
    "dist = multivariate_normal(mean=[0,0], cov=[[1,.5],[.5,1]])\n",
    "zz = dist.pdf(data)\n",
    "dat[\"50% corr\"] = ax.contourf(xx, yy, zz, cmap=cmap)\n",
    "\n",
    "dist = multivariate_normal(mean=[0,0], cov=[[1,.9],[.9,1]])\n",
    "zz = dist.pdf(data)\n",
    "dat[\"90% corr\"] = ax.contourf(xx, yy, zz, cmap=cmap)\n",
    "\n",
    "dist = multivariate_normal(mean=[0,0], cov=[[1,.99],[.99,1]])\n",
    "zz = dist.pdf(data)\n",
    "dat[\"99% corr\"] = ax.contourf(xx, yy, zz, cmap=cmap)"
   ]
  },
  {
   "cell_type": "code",
   "execution_count": 3,
   "metadata": {},
   "outputs": [
    {
     "data": {
      "application/vnd.jupyter.widget-view+json": {
       "model_id": "5a70875f76cf44b9896cf6a620f9d6e0",
       "version_major": 2,
       "version_minor": 0
      },
      "text/plain": [
       "AppLayout(children=(Canvas(header_visible=False, layout=Layout(grid_area='left-sidebar'), toolbar=Toolbar(tool…"
      ]
     },
     "metadata": {},
     "output_type": "display_data"
    }
   ],
   "source": [
    "# Interactive plot\n",
    "import ipywidgets as widgets\n",
    "\n",
    "state = {}\n",
    "for k in cont:\n",
    "    state[k] = True\n",
    "state[\"data\"] = [\"None\"] + list(dat.keys())\n",
    "    \n",
    "def toggle_visibility(data=\"None\", **kwargs):\n",
    "    for k, v in kwargs.items():\n",
    "        for a in cont[k].collections:\n",
    "             a.set_visible(v)\n",
    "    for k in dat:\n",
    "        v = (k == data)\n",
    "        for a in dat[k].collections:\n",
    "            a.set_visible(v)\n",
    "\n",
    "w = widgets.interactive(toggle_visibility, **state)\n",
    "#fig.canvas.resizable=False\n",
    "fig.canvas.header_visible = False\n",
    "ui = widgets.AppLayout(left_sidebar=fig.canvas, right_sidebar=w)\n",
    "\n",
    "display(ui)"
   ]
  },
  {
   "cell_type": "code",
   "execution_count": null,
   "metadata": {},
   "outputs": [],
   "source": []
  },
  {
   "cell_type": "code",
   "execution_count": null,
   "metadata": {},
   "outputs": [],
   "source": []
  }
 ],
 "metadata": {
  "kernelspec": {
   "display_name": "Python 3",
   "language": "python",
   "name": "python3"
  },
  "language_info": {
   "codemirror_mode": {
    "name": "ipython",
    "version": 3
   },
   "file_extension": ".py",
   "mimetype": "text/x-python",
   "name": "python",
   "nbconvert_exporter": "python",
   "pygments_lexer": "ipython3",
   "version": "3.7.3"
  }
 },
 "nbformat": 4,
 "nbformat_minor": 4
}
