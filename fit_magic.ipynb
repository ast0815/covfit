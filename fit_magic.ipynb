{
 "cells": [
  {
   "cell_type": "code",
   "execution_count": 1,
   "metadata": {},
   "outputs": [],
   "source": [
    "from sympy import *"
   ]
  },
  {
   "cell_type": "code",
   "execution_count": 2,
   "metadata": {},
   "outputs": [
    {
     "data": {
      "text/latex": [
       "$\\displaystyle a_{1}$"
      ],
      "text/plain": [
       "a_1"
      ]
     },
     "execution_count": 2,
     "metadata": {},
     "output_type": "execute_result"
    }
   ],
   "source": [
    "def a(i):\n",
    "    return sympify(f\"a_{i}\")\n",
    "a(1)"
   ]
  },
  {
   "cell_type": "code",
   "execution_count": 31,
   "metadata": {},
   "outputs": [
    {
     "name": "stdout",
     "output_type": "stream",
     "text": [
      "\\left[\\begin{matrix}1 & \\frac{a_{0}}{a_{1}} & \\frac{a_{0}}{a_{2}} & \\frac{a_{0}}{a_{3}} & \\frac{a_{0}}{a_{4}}\\\\\\frac{a_{0}}{a_{1}} & 1 & \\frac{a_{1}}{a_{2}} & \\frac{a_{1}}{a_{3}} & \\frac{a_{1}}{a_{4}}\\\\\\frac{a_{0}}{a_{2}} & \\frac{a_{1}}{a_{2}} & 1 & \\frac{a_{2}}{a_{3}} & \\frac{a_{2}}{a_{4}}\\\\\\frac{a_{0}}{a_{3}} & \\frac{a_{1}}{a_{3}} & \\frac{a_{2}}{a_{3}} & 1 & \\frac{a_{3}}{a_{4}}\\\\\\frac{a_{0}}{a_{4}} & \\frac{a_{1}}{a_{4}} & \\frac{a_{2}}{a_{4}} & \\frac{a_{3}}{a_{4}} & 1\\end{matrix}\\right]\n"
     ]
    },
    {
     "data": {
      "text/latex": [
       "$\\displaystyle \\left[\\begin{matrix}1 & \\frac{a_{0}}{a_{1}} & \\frac{a_{0}}{a_{2}} & \\frac{a_{0}}{a_{3}} & \\frac{a_{0}}{a_{4}}\\\\\\frac{a_{0}}{a_{1}} & 1 & \\frac{a_{1}}{a_{2}} & \\frac{a_{1}}{a_{3}} & \\frac{a_{1}}{a_{4}}\\\\\\frac{a_{0}}{a_{2}} & \\frac{a_{1}}{a_{2}} & 1 & \\frac{a_{2}}{a_{3}} & \\frac{a_{2}}{a_{4}}\\\\\\frac{a_{0}}{a_{3}} & \\frac{a_{1}}{a_{3}} & \\frac{a_{2}}{a_{3}} & 1 & \\frac{a_{3}}{a_{4}}\\\\\\frac{a_{0}}{a_{4}} & \\frac{a_{1}}{a_{4}} & \\frac{a_{2}}{a_{4}} & \\frac{a_{3}}{a_{4}} & 1\\end{matrix}\\right]$"
      ],
      "text/plain": [
       "Matrix([\n",
       "[      1, a_0/a_1, a_0/a_2, a_0/a_3, a_0/a_4],\n",
       "[a_0/a_1,       1, a_1/a_2, a_1/a_3, a_1/a_4],\n",
       "[a_0/a_2, a_1/a_2,       1, a_2/a_3, a_2/a_4],\n",
       "[a_0/a_3, a_1/a_3, a_2/a_3,       1, a_3/a_4],\n",
       "[a_0/a_4, a_1/a_4, a_2/a_4, a_3/a_4,       1]])"
      ]
     },
     "execution_count": 31,
     "metadata": {},
     "output_type": "execute_result"
    }
   ],
   "source": [
    "N = 5\n",
    "S = Matrix([[a(min(i,j))/a(max(i,j)) for i in range(N)] for j in range(N)])\n",
    "print(latex(S))\n",
    "S"
   ]
  },
  {
   "cell_type": "code",
   "execution_count": 32,
   "metadata": {},
   "outputs": [
    {
     "name": "stdout",
     "output_type": "stream",
     "text": [
      "\\left[\\begin{matrix}- \\frac{a_{1}^{2}}{a_{0}^{2} - a_{1}^{2}} & \\frac{a_{0} a_{1}}{a_{0}^{2} - a_{1}^{2}} & 0 & 0 & 0\\\\\\frac{a_{0} a_{1}}{a_{0}^{2} - a_{1}^{2}} & \\frac{a_{1}^{2} \\left(- a_{0}^{2} + a_{2}^{2}\\right)}{a_{0}^{2} a_{1}^{2} - a_{0}^{2} a_{2}^{2} - a_{1}^{4} + a_{1}^{2} a_{2}^{2}} & \\frac{a_{1} a_{2}}{a_{1}^{2} - a_{2}^{2}} & 0 & 0\\\\0 & \\frac{a_{1} a_{2}}{a_{1}^{2} - a_{2}^{2}} & \\frac{a_{2}^{2} \\left(- a_{1}^{2} + a_{3}^{2}\\right)}{a_{1}^{2} a_{2}^{2} - a_{1}^{2} a_{3}^{2} - a_{2}^{4} + a_{2}^{2} a_{3}^{2}} & \\frac{a_{2} a_{3}}{a_{2}^{2} - a_{3}^{2}} & 0\\\\0 & 0 & \\frac{a_{2} a_{3}}{a_{2}^{2} - a_{3}^{2}} & \\frac{a_{3}^{2} \\left(- a_{2}^{2} + a_{4}^{2}\\right)}{a_{2}^{2} a_{3}^{2} - a_{2}^{2} a_{4}^{2} - a_{3}^{4} + a_{3}^{2} a_{4}^{2}} & \\frac{a_{3} a_{4}}{a_{3}^{2} - a_{4}^{2}}\\\\0 & 0 & 0 & \\frac{a_{3} a_{4}}{a_{3}^{2} - a_{4}^{2}} & - \\frac{a_{4}^{2}}{a_{3}^{2} - a_{4}^{2}}\\end{matrix}\\right]\n"
     ]
    },
    {
     "data": {
      "text/latex": [
       "$\\displaystyle \\left[\\begin{matrix}- \\frac{a_{1}^{2}}{a_{0}^{2} - a_{1}^{2}} & \\frac{a_{0} a_{1}}{a_{0}^{2} - a_{1}^{2}} & 0 & 0 & 0\\\\\\frac{a_{0} a_{1}}{a_{0}^{2} - a_{1}^{2}} & \\frac{a_{1}^{2} \\left(- a_{0}^{2} + a_{2}^{2}\\right)}{a_{0}^{2} a_{1}^{2} - a_{0}^{2} a_{2}^{2} - a_{1}^{4} + a_{1}^{2} a_{2}^{2}} & \\frac{a_{1} a_{2}}{a_{1}^{2} - a_{2}^{2}} & 0 & 0\\\\0 & \\frac{a_{1} a_{2}}{a_{1}^{2} - a_{2}^{2}} & \\frac{a_{2}^{2} \\left(- a_{1}^{2} + a_{3}^{2}\\right)}{a_{1}^{2} a_{2}^{2} - a_{1}^{2} a_{3}^{2} - a_{2}^{4} + a_{2}^{2} a_{3}^{2}} & \\frac{a_{2} a_{3}}{a_{2}^{2} - a_{3}^{2}} & 0\\\\0 & 0 & \\frac{a_{2} a_{3}}{a_{2}^{2} - a_{3}^{2}} & \\frac{a_{3}^{2} \\left(- a_{2}^{2} + a_{4}^{2}\\right)}{a_{2}^{2} a_{3}^{2} - a_{2}^{2} a_{4}^{2} - a_{3}^{4} + a_{3}^{2} a_{4}^{2}} & \\frac{a_{3} a_{4}}{a_{3}^{2} - a_{4}^{2}}\\\\0 & 0 & 0 & \\frac{a_{3} a_{4}}{a_{3}^{2} - a_{4}^{2}} & - \\frac{a_{4}^{2}}{a_{3}^{2} - a_{4}^{2}}\\end{matrix}\\right]$"
      ],
      "text/plain": [
       "Matrix([\n",
       "[-a_1**2/(a_0**2 - a_1**2),                                                          a_0*a_1/(a_0**2 - a_1**2),                                                                                  0,                                                                                  0,                         0],\n",
       "[a_0*a_1/(a_0**2 - a_1**2), a_1**2*(-a_0**2 + a_2**2)/(a_0**2*a_1**2 - a_0**2*a_2**2 - a_1**4 + a_1**2*a_2**2),                                                          a_1*a_2/(a_1**2 - a_2**2),                                                                                  0,                         0],\n",
       "[                        0,                                                          a_1*a_2/(a_1**2 - a_2**2), a_2**2*(-a_1**2 + a_3**2)/(a_1**2*a_2**2 - a_1**2*a_3**2 - a_2**4 + a_2**2*a_3**2),                                                          a_2*a_3/(a_2**2 - a_3**2),                         0],\n",
       "[                        0,                                                                                  0,                                                          a_2*a_3/(a_2**2 - a_3**2), a_3**2*(-a_2**2 + a_4**2)/(a_2**2*a_3**2 - a_2**2*a_4**2 - a_3**4 + a_3**2*a_4**2), a_3*a_4/(a_3**2 - a_4**2)],\n",
       "[                        0,                                                                                  0,                                                                                  0,                                                          a_3*a_4/(a_3**2 - a_4**2), -a_4**2/(a_3**2 - a_4**2)]])"
      ]
     },
     "execution_count": 32,
     "metadata": {},
     "output_type": "execute_result"
    }
   ],
   "source": [
    "Si = S.inv()\n",
    "Si = simplify(Si)\n",
    "print(latex(Si))\n",
    "Si"
   ]
  },
  {
   "cell_type": "code",
   "execution_count": 5,
   "metadata": {},
   "outputs": [
    {
     "data": {
      "text/latex": [
       "$\\displaystyle \\left[\\begin{matrix}a_{0}\\\\a_{1}\\\\a_{2}\\\\a_{3}\\\\a_{4}\\end{matrix}\\right]$"
      ],
      "text/plain": [
       "Matrix([\n",
       "[a_0],\n",
       "[a_1],\n",
       "[a_2],\n",
       "[a_3],\n",
       "[a_4]])"
      ]
     },
     "execution_count": 5,
     "metadata": {},
     "output_type": "execute_result"
    }
   ],
   "source": [
    "v = Matrix([a(i) for i in range(N)])\n",
    "v"
   ]
  },
  {
   "cell_type": "code",
   "execution_count": 6,
   "metadata": {},
   "outputs": [
    {
     "data": {
      "text/latex": [
       "$\\displaystyle \\left[\\begin{matrix}a_{4}^{2}\\end{matrix}\\right]$"
      ],
      "text/plain": [
       "Matrix([[a_4**2]])"
      ]
     },
     "execution_count": 6,
     "metadata": {},
     "output_type": "execute_result"
    }
   ],
   "source": [
    "simplify(v.T * Si * v)"
   ]
  },
  {
   "cell_type": "code",
   "execution_count": 23,
   "metadata": {},
   "outputs": [
    {
     "data": {
      "text/latex": [
       "$\\displaystyle \\frac{a_{0}^{2}}{a_{4}^{2}} - \\frac{a_{0}^{2}}{a_{3}^{2}} - \\frac{a_{0}^{2} a_{3}^{2}}{a_{2}^{2} a_{4}^{2}} + \\frac{a_{0}^{2}}{a_{2}^{2}} - \\frac{a_{0}^{2} a_{2}^{2}}{a_{1}^{2} a_{4}^{2}} + \\frac{a_{0}^{2} a_{2}^{2}}{a_{1}^{2} a_{3}^{2}} + \\frac{a_{0}^{2} a_{3}^{2}}{a_{1}^{2} a_{4}^{2}} - \\frac{a_{0}^{2}}{a_{1}^{2}} - \\frac{a_{1}^{2}}{a_{4}^{2}} + \\frac{a_{1}^{2}}{a_{3}^{2}} + \\frac{a_{1}^{2} a_{3}^{2}}{a_{2}^{2} a_{4}^{2}} - \\frac{a_{1}^{2}}{a_{2}^{2}} + \\frac{a_{2}^{2}}{a_{4}^{2}} - \\frac{a_{2}^{2}}{a_{3}^{2}} - \\frac{a_{3}^{2}}{a_{4}^{2}} + 1$"
      ],
      "text/plain": [
       "a_0**2/a_4**2 - a_0**2/a_3**2 - a_0**2*a_3**2/(a_2**2*a_4**2) + a_0**2/a_2**2 - a_0**2*a_2**2/(a_1**2*a_4**2) + a_0**2*a_2**2/(a_1**2*a_3**2) + a_0**2*a_3**2/(a_1**2*a_4**2) - a_0**2/a_1**2 - a_1**2/a_4**2 + a_1**2/a_3**2 + a_1**2*a_3**2/(a_2**2*a_4**2) - a_1**2/a_2**2 + a_2**2/a_4**2 - a_2**2/a_3**2 - a_3**2/a_4**2 + 1"
      ]
     },
     "execution_count": 23,
     "metadata": {},
     "output_type": "execute_result"
    }
   ],
   "source": [
    "simplify(S.det())"
   ]
  },
  {
   "cell_type": "code",
   "execution_count": 24,
   "metadata": {},
   "outputs": [
    {
     "data": {
      "text/latex": [
       "$\\displaystyle \\frac{a_{1}^{2} a_{9}^{2}}{a_{4}^{2}} - \\frac{a_{1}^{2}}{a_{4}^{2}} - \\frac{a_{1}^{2} a_{9}^{2}}{a_{3}^{2}} + \\frac{a_{1}^{2}}{a_{3}^{2}} - \\frac{a_{1}^{2} a_{3}^{2} a_{9}^{2}}{a_{2}^{2} a_{4}^{2}} + \\frac{a_{1}^{2} a_{3}^{2}}{a_{2}^{2} a_{4}^{2}} + \\frac{a_{1}^{2} a_{9}^{2}}{a_{2}^{2}} - \\frac{a_{1}^{2}}{a_{2}^{2}} - \\frac{a_{2}^{2} a_{9}^{2}}{a_{4}^{2}} + \\frac{a_{2}^{2}}{a_{4}^{2}} + \\frac{a_{2}^{2} a_{9}^{2}}{a_{3}^{2}} - \\frac{a_{2}^{2}}{a_{3}^{2}} + \\frac{a_{3}^{2} a_{9}^{2}}{a_{4}^{2}} - \\frac{a_{3}^{2}}{a_{4}^{2}} - a_{9}^{2} + 1$"
      ],
      "text/plain": [
       "a_1**2*a_9**2/a_4**2 - a_1**2/a_4**2 - a_1**2*a_9**2/a_3**2 + a_1**2/a_3**2 - a_1**2*a_3**2*a_9**2/(a_2**2*a_4**2) + a_1**2*a_3**2/(a_2**2*a_4**2) + a_1**2*a_9**2/a_2**2 - a_1**2/a_2**2 - a_2**2*a_9**2/a_4**2 + a_2**2/a_4**2 + a_2**2*a_9**2/a_3**2 - a_2**2/a_3**2 + a_3**2*a_9**2/a_4**2 - a_3**2/a_4**2 - a_9**2 + 1"
      ]
     },
     "execution_count": 24,
     "metadata": {},
     "output_type": "execute_result"
    }
   ],
   "source": [
    "_.subs(a(0), a(1)*a(9))"
   ]
  },
  {
   "cell_type": "code",
   "execution_count": 25,
   "metadata": {},
   "outputs": [
    {
     "data": {
      "text/latex": [
       "$\\displaystyle \\frac{a_{2}^{2} a_{8}^{2} a_{9}^{2}}{a_{4}^{2}} - \\frac{a_{2}^{2} a_{8}^{2}}{a_{4}^{2}} - \\frac{a_{2}^{2} a_{9}^{2}}{a_{4}^{2}} + \\frac{a_{2}^{2}}{a_{4}^{2}} - \\frac{a_{2}^{2} a_{8}^{2} a_{9}^{2}}{a_{3}^{2}} + \\frac{a_{2}^{2} a_{8}^{2}}{a_{3}^{2}} + \\frac{a_{2}^{2} a_{9}^{2}}{a_{3}^{2}} - \\frac{a_{2}^{2}}{a_{3}^{2}} - \\frac{a_{3}^{2} a_{8}^{2} a_{9}^{2}}{a_{4}^{2}} + \\frac{a_{3}^{2} a_{8}^{2}}{a_{4}^{2}} + \\frac{a_{3}^{2} a_{9}^{2}}{a_{4}^{2}} - \\frac{a_{3}^{2}}{a_{4}^{2}} + a_{8}^{2} a_{9}^{2} - a_{8}^{2} - a_{9}^{2} + 1$"
      ],
      "text/plain": [
       "a_2**2*a_8**2*a_9**2/a_4**2 - a_2**2*a_8**2/a_4**2 - a_2**2*a_9**2/a_4**2 + a_2**2/a_4**2 - a_2**2*a_8**2*a_9**2/a_3**2 + a_2**2*a_8**2/a_3**2 + a_2**2*a_9**2/a_3**2 - a_2**2/a_3**2 - a_3**2*a_8**2*a_9**2/a_4**2 + a_3**2*a_8**2/a_4**2 + a_3**2*a_9**2/a_4**2 - a_3**2/a_4**2 + a_8**2*a_9**2 - a_8**2 - a_9**2 + 1"
      ]
     },
     "execution_count": 25,
     "metadata": {},
     "output_type": "execute_result"
    }
   ],
   "source": [
    "_.subs(a(1), a(2)*a(8))"
   ]
  },
  {
   "cell_type": "code",
   "execution_count": 26,
   "metadata": {},
   "outputs": [
    {
     "data": {
      "text/latex": [
       "$\\displaystyle \\frac{a_{3}^{2} a_{7}^{2} a_{8}^{2} a_{9}^{2}}{a_{4}^{2}} - \\frac{a_{3}^{2} a_{7}^{2} a_{8}^{2}}{a_{4}^{2}} - \\frac{a_{3}^{2} a_{7}^{2} a_{9}^{2}}{a_{4}^{2}} + \\frac{a_{3}^{2} a_{7}^{2}}{a_{4}^{2}} - \\frac{a_{3}^{2} a_{8}^{2} a_{9}^{2}}{a_{4}^{2}} + \\frac{a_{3}^{2} a_{8}^{2}}{a_{4}^{2}} + \\frac{a_{3}^{2} a_{9}^{2}}{a_{4}^{2}} - \\frac{a_{3}^{2}}{a_{4}^{2}} - a_{7}^{2} a_{8}^{2} a_{9}^{2} + a_{7}^{2} a_{8}^{2} + a_{7}^{2} a_{9}^{2} - a_{7}^{2} + a_{8}^{2} a_{9}^{2} - a_{8}^{2} - a_{9}^{2} + 1$"
      ],
      "text/plain": [
       "a_3**2*a_7**2*a_8**2*a_9**2/a_4**2 - a_3**2*a_7**2*a_8**2/a_4**2 - a_3**2*a_7**2*a_9**2/a_4**2 + a_3**2*a_7**2/a_4**2 - a_3**2*a_8**2*a_9**2/a_4**2 + a_3**2*a_8**2/a_4**2 + a_3**2*a_9**2/a_4**2 - a_3**2/a_4**2 - a_7**2*a_8**2*a_9**2 + a_7**2*a_8**2 + a_7**2*a_9**2 - a_7**2 + a_8**2*a_9**2 - a_8**2 - a_9**2 + 1"
      ]
     },
     "execution_count": 26,
     "metadata": {},
     "output_type": "execute_result"
    }
   ],
   "source": [
    "_.subs(a(2), a(3)*a(7))"
   ]
  },
  {
   "cell_type": "code",
   "execution_count": 27,
   "metadata": {},
   "outputs": [
    {
     "data": {
      "text/latex": [
       "$\\displaystyle a_{6}^{2} a_{7}^{2} a_{8}^{2} a_{9}^{2} - a_{6}^{2} a_{7}^{2} a_{8}^{2} - a_{6}^{2} a_{7}^{2} a_{9}^{2} + a_{6}^{2} a_{7}^{2} - a_{6}^{2} a_{8}^{2} a_{9}^{2} + a_{6}^{2} a_{8}^{2} + a_{6}^{2} a_{9}^{2} - a_{6}^{2} - a_{7}^{2} a_{8}^{2} a_{9}^{2} + a_{7}^{2} a_{8}^{2} + a_{7}^{2} a_{9}^{2} - a_{7}^{2} + a_{8}^{2} a_{9}^{2} - a_{8}^{2} - a_{9}^{2} + 1$"
      ],
      "text/plain": [
       "a_6**2*a_7**2*a_8**2*a_9**2 - a_6**2*a_7**2*a_8**2 - a_6**2*a_7**2*a_9**2 + a_6**2*a_7**2 - a_6**2*a_8**2*a_9**2 + a_6**2*a_8**2 + a_6**2*a_9**2 - a_6**2 - a_7**2*a_8**2*a_9**2 + a_7**2*a_8**2 + a_7**2*a_9**2 - a_7**2 + a_8**2*a_9**2 - a_8**2 - a_9**2 + 1"
      ]
     },
     "execution_count": 27,
     "metadata": {},
     "output_type": "execute_result"
    }
   ],
   "source": [
    "_.subs(a(3), a(4)*a(6))"
   ]
  },
  {
   "cell_type": "code",
   "execution_count": null,
   "metadata": {},
   "outputs": [],
   "source": []
  }
 ],
 "metadata": {
  "kernelspec": {
   "display_name": "Python 3",
   "language": "python",
   "name": "python3"
  },
  "language_info": {
   "codemirror_mode": {
    "name": "ipython",
    "version": 3
   },
   "file_extension": ".py",
   "mimetype": "text/x-python",
   "name": "python",
   "nbconvert_exporter": "python",
   "pygments_lexer": "ipython3",
   "version": "3.7.3"
  }
 },
 "nbformat": 4,
 "nbformat_minor": 4
}
