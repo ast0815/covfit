{
 "cells": [
  {
   "cell_type": "code",
   "execution_count": 1,
   "metadata": {},
   "outputs": [],
   "source": [
    "import numpy as np"
   ]
  },
  {
   "cell_type": "code",
   "execution_count": 2,
   "metadata": {},
   "outputs": [],
   "source": [
    "# Create data sets for comaprison\n",
    "from ipynb.fs.defs.datasets import default_sets, N_DIM\n",
    "#N_DIM = 2\n",
    "datasets = default_sets(N_DIM)\n",
    "dname = \"invariant2\""
   ]
  },
  {
   "cell_type": "code",
   "execution_count": 3,
   "metadata": {},
   "outputs": [],
   "source": [
    "# Get distance function and expected distribution\n",
    "from ipynb.fs.defs.covfit import invariant2\n",
    "from scipy.stats import chi2\n",
    "expected = chi2(df=1)\n",
    "dist = invariant2"
   ]
  },
  {
   "cell_type": "code",
   "execution_count": 4,
   "metadata": {},
   "outputs": [],
   "source": [
    "# Compute distances\n",
    "distances = {}\n",
    "for name, data in datasets.items():\n",
    "    distances[name] = dist(data)"
   ]
  },
  {
   "cell_type": "code",
   "execution_count": 5,
   "metadata": {},
   "outputs": [
    {
     "data": {
      "image/png": "[encoded data removed]",
      "text/plain": [
       "<Figure size 432x288 with 1 Axes>"
      ]
     },
     "metadata": {
      "needs_background": "light"
     },
     "output_type": "display_data"
    }
   ],
   "source": [
    "# Compare cumulative distributions\n",
    "from matplotlib import pyplot as plt\n",
    "\n",
    "fig, ax = plt.subplots()\n",
    "x = np.linspace(0, 2000, 8001)\n",
    "for name in datasets:\n",
    "    ax.hist(distances[name], bins=x, histtype=\"step\",\n",
    "        density=True, cumulative=True, linestyle='solid',\n",
    "        label=name)\n",
    "ax.plot(x, expected.cdf(x), label=f\"expected\")\n",
    "ax.set_xlim(0, expected.mean() + expected.std()*3)\n",
    "ax.set_xlabel(f\"{dname}$(\\mathbf{{x}})$\")\n",
    "ax.set_ylabel(\"CDF\")\n",
    "ax.legend(loc=\"lower right\")\n",
    "fig.tight_layout()\n",
    "fig.savefig(f\"plots/{dname}_cdf.pdf\")"
   ]
  },
  {
   "cell_type": "code",
   "execution_count": null,
   "metadata": {},
   "outputs": [],
   "source": [
    "# Spread of p-values\n",
    "fig, ax = plt.subplots()\n",
    "x = np.linspace(0, 1, 21)\n",
    "for name, data in distances.items():\n",
    "    ax.hist(expected.sf(data), bins=x, histtype=\"step\",\n",
    "        density=True, cumulative=False, linestyle='solid',\n",
    "        label=name)\n",
    "ax.axhline(1., color=\"k\", linestyle=\"dashed\")\n",
    "#ax.set_yscale(\"log\")\n",
    "ax.set_xlabel(\"p-value\")\n",
    "ax.set_ylabel(\"PDF\")\n",
    "ax.legend(loc=\"upper center\")\n",
    "fig.tight_layout()\n",
    "fig.savefig(f\"plots/{dname}_p-values.pdf\")"
   ]
  },
  {
   "cell_type": "code",
   "execution_count": null,
   "metadata": {},
   "outputs": [],
   "source": [
    "# siginifcance levels\n",
    "fig, ax = plt.subplots()\n",
    "for s in [1,2,3]:\n",
    "    SL = chi2.sf(s**2, df=1)\n",
    "    ax.axhline(SL, color=\"k\", linestyle=\"dotted\")\n",
    "    ax.axvline(SL, color=\"k\", linestyle=\"dotted\")\n",
    "    ax.annotate(f\"${s}\\sigma $ \", (SL, 0.05), xycoords=(\"data\", \"axes fraction\"))\n",
    "    \n",
    "x = np.logspace(-3, 0, 200)\n",
    "for name, data in distances.items():\n",
    "    y = np.sum(data[:,np.newaxis] >= expected.isf(x), axis=0) / len(data)\n",
    "    ax.plot(x, y, label=name)\n",
    "ax.plot([1e-3,1], [1e-3,1], color=\"k\", linestyle=\"dashed\")\n",
    "ax.set_yscale(\"log\")\n",
    "ax.set_xscale(\"log\")\n",
    "ax.set_ylabel(r\"Real siginificance level $\\alpha'$\")\n",
    "ax.set_xlabel(r\"Assumed significance level $\\alpha$\")\n",
    "ax.legend(loc=\"upper left\")\n",
    "fig.tight_layout()\n",
    "fig.savefig(f\"plots/{dname}_significance.pdf\")"
   ]
  },
  {
   "cell_type": "code",
   "execution_count": null,
   "metadata": {},
   "outputs": [],
   "source": []
  }
 ],
 "metadata": {
  "kernelspec": {
   "display_name": "Python 3",
   "language": "python",
   "name": "python3"
  },
  "language_info": {
   "codemirror_mode": {
    "name": "ipython",
    "version": 3
   },
   "file_extension": ".py",
   "mimetype": "text/x-python",
   "name": "python",
   "nbconvert_exporter": "python",
   "pygments_lexer": "ipython3",
   "version": "3.7.3"
  }
 },
 "nbformat": 4,
 "nbformat_minor": 4
}
