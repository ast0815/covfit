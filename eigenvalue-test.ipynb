{
 "cells": [
  {
   "cell_type": "code",
   "execution_count": 27,
   "id": "9ed45b32-f449-438d-bc21-56f2d2e413ea",
   "metadata": {},
   "outputs": [],
   "source": [
    "import numpy as np\n",
    "from scipy.optimize import minimize\n",
    "from matplotlib import pyplot as plt"
   ]
  },
  {
   "cell_type": "code",
   "execution_count": 65,
   "id": "23cd96a5-5e7e-4f84-8dee-3fe1273fd662",
   "metadata": {},
   "outputs": [],
   "source": [
    "def cov(x):\n",
    "    #X = x.reshape((3,3))\n",
    "    #X = np.full((3,3), x)\n",
    "    X = np.eye(3) * x\n",
    "    c = np.block(\n",
    "        [\n",
    "            [np.eye(3), X],\n",
    "            [X.T, np.eye(3)], \n",
    "        ]\n",
    "    )\n",
    "    return c    \n",
    "\n",
    "def eig(x):\n",
    "    x = np.asarray(x)\n",
    "    c = cov(x)\n",
    "    eig, _ = np.linalg.eig(c)\n",
    "    return np.array(sorted(eig))\n",
    "\n",
    "def fun(x):\n",
    "    x = np.asarray(x)\n",
    "    c = cov(x)\n",
    "    eig, _ = np.linalg.eig(c)\n",
    "    return -np.sum(eig**2)"
   ]
  },
  {
   "cell_type": "code",
   "execution_count": 68,
   "id": "529bf148-7007-44bd-af23-aca702a30c46",
   "metadata": {},
   "outputs": [
    {
     "data": {
      "text/plain": [
       "(array([0., 0., 0., 2., 2., 2.]), -12.0)"
      ]
     },
     "execution_count": 68,
     "metadata": {},
     "output_type": "execute_result"
    }
   ],
   "source": [
    "eig([1]), fun([1])"
   ]
  },
  {
   "cell_type": "code",
   "execution_count": 67,
   "id": "13e55df8-11f5-4ed3-b635-8a3ef191417c",
   "metadata": {},
   "outputs": [
    {
     "name": "stderr",
     "output_type": "stream",
     "text": [
      "/tmp/ipykernel_557895/4055866273.py:23: RuntimeWarning: overflow encountered in square\n",
      "  return -np.sum(eig**2)\n"
     ]
    },
    {
     "data": {
      "text/plain": [
       "     fun: -inf\n",
       "     jac: array([nan])\n",
       " message: 'Singular matrix E in LSQ subproblem'\n",
       "    nfev: 44\n",
       "     nit: 22\n",
       "    njev: 22\n",
       "  status: 5\n",
       " success: False\n",
       "       x: array([2.41334501e+168])"
      ]
     },
     "execution_count": 67,
     "metadata": {},
     "output_type": "execute_result"
    }
   ],
   "source": [
    "cons = tuple({'type': 'ineq', 'fun': lambda x: eig(x)[i]} for i in range(6)\n",
    "       )\n",
    "ret = minimize(fun, x0=[0.1], constraints=cons)\n",
    "ret"
   ]
  },
  {
   "cell_type": "code",
   "execution_count": 51,
   "id": "90fd23e8-4b02-4924-b42c-7866509b5806",
   "metadata": {},
   "outputs": [
    {
     "data": {
      "text/plain": [
       "array([0.7, 1. , 1. , 1. , 1. , 1.3])"
      ]
     },
     "execution_count": 51,
     "metadata": {},
     "output_type": "execute_result"
    }
   ],
   "source": [
    "eig([0.1]*9)"
   ]
  },
  {
   "cell_type": "code",
   "execution_count": 52,
   "id": "fd03500a-17fd-4fd8-bf7a-de42a4ca1c4b",
   "metadata": {},
   "outputs": [
    {
     "data": {
      "text/plain": [
       "({'type': 'ineq', 'fun': <function __main__.<genexpr>.<lambda>(x)>},\n",
       " {'type': 'ineq', 'fun': <function __main__.<genexpr>.<lambda>(x)>},\n",
       " {'type': 'ineq', 'fun': <function __main__.<genexpr>.<lambda>(x)>},\n",
       " {'type': 'ineq', 'fun': <function __main__.<genexpr>.<lambda>(x)>},\n",
       " {'type': 'ineq', 'fun': <function __main__.<genexpr>.<lambda>(x)>},\n",
       " {'type': 'ineq', 'fun': <function __main__.<genexpr>.<lambda>(x)>})"
      ]
     },
     "execution_count": 52,
     "metadata": {},
     "output_type": "execute_result"
    }
   ],
   "source": [
    "cons"
   ]
  },
  {
   "cell_type": "code",
   "execution_count": null,
   "id": "e34b4914-0c23-47f1-a764-2ba601e9ef20",
   "metadata": {},
   "outputs": [],
   "source": []
  }
 ],
 "metadata": {
  "kernelspec": {
   "display_name": "Python 3 (ipykernel)",
   "language": "python",
   "name": "python3"
  },
  "language_info": {
   "codemirror_mode": {
    "name": "ipython",
    "version": 3
   },
   "file_extension": ".py",
   "mimetype": "text/x-python",
   "name": "python",
   "nbconvert_exporter": "python",
   "pygments_lexer": "ipython3",
   "version": "3.8.10"
  }
 },
 "nbformat": 4,
 "nbformat_minor": 5
}
