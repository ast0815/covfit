{
 "cells": [
  {
   "cell_type": "code",
   "execution_count": 1,
   "id": "908f00aa-fb15-43c0-bc93-80544db4dd12",
   "metadata": {},
   "outputs": [],
   "source": [
    "import numpy as np\n",
    "from matplotlib import pyplot as plt"
   ]
  },
  {
   "cell_type": "code",
   "execution_count": 2,
   "id": "16de6bae-0149-4c1f-8236-df32642980a9",
   "metadata": {},
   "outputs": [],
   "source": [
    "# Create data sets for comaprison\n",
    "from ipynb.fs.defs.datasets import N_DIM, N_POINTS, default_sets\n",
    "\n",
    "#BLOCKS = [5, 5]\n",
    "#BLOCKS = [1] * N_DIM\n",
    "#BLOCKS = [10,]*3\n",
    "# MINERvA\n",
    "BLOCKS = [54,] * 4\n",
    "\n",
    "N_DIM = np.sum(BLOCKS)\n",
    "\n",
    "#datasets = default_sets(N_DIM, type=\"diagblock\", blocks=BLOCKS)\n",
    "\n",
    "N_POINTS = 100000\n",
    "datasets = default_sets(N_DIM, type=\"diagblock\", blocks=BLOCKS, remove={\"Corr.50\", \"Corr.90\"}, N_points=N_POINTS)"
   ]
  },
  {
   "cell_type": "code",
   "execution_count": 3,
   "id": "dd5d882b-22f6-48ab-ab54-6a7f3a5415ce",
   "metadata": {},
   "outputs": [
    {
     "name": "stdout",
     "output_type": "stream",
     "text": [
      "216\n"
     ]
    },
    {
     "data": {
      "text/plain": [
       "<matplotlib.image.AxesImage at 0x7f81ec407850>"
      ]
     },
     "execution_count": 3,
     "metadata": {},
     "output_type": "execute_result"
    },
    {
     "data": {
      "image/png": "[encoded data removed]",
      "text/plain": [
       "<Figure size 345.6x345.6 with 1 Axes>"
      ]
     },
     "metadata": {
      "needs_background": "light"
     },
     "output_type": "display_data"
    }
   ],
   "source": [
    "# Projetion onto subspace\n",
    "\n",
    "#A = np.array(\n",
    "#    [\n",
    "#        # 4D\n",
    "#        # [-1, 0, 0, 1, -1, 0, 1, 0, 0, 0],\n",
    "#        # [0, -1, 0, 1, 1, 0, 0, 1, 0, 0],\n",
    "#        # [0, 0, -1, 0, 0, 1, 0, 0, 1, 0],\n",
    "#        # [0, 0, 0, 0, 0, 0, 0, 0, 0, 1],\n",
    "#        # 2D\n",
    "#        [1, 1, 1, 1, 0, 0, 0, 1, 0, 0],\n",
    "#        [1, 1, -1, -1, 0, 0, 1, 0, 0, 0],\n",
    "#        # 2D perpendicular to diagonal\n",
    "#        # [-1, 1, -1, 1, 0, 0, 0, 0, 0, 0],\n",
    "#        # [1, 1, -1, -1, 0, 0, 0, 0, 0, 0],\n",
    "#        # 1D diagonal\n",
    "#        # [1, 1, 1, 1, 1, 1, 1, 1, 1, 1],\n",
    "#        # 1D perpendicular to diagonal\n",
    "#        # [1, -1, 1, -1, 1, -1, 1, -1, 1, -1],\n",
    "#    ],\n",
    "#    dtype=float,\n",
    "#)\n",
    "\n",
    "A = np.eye(N_DIM)\n",
    "\n",
    "#from scipy.stats import special_ortho_group\n",
    "#A = special_ortho_group.rvs(N_DIM)[:1]\n",
    "\n",
    "#A = np.full((1, N_DIM), 1.)\n",
    "#A[0,2::] = 0\n",
    "\n",
    "K_DIM = len(A)\n",
    "print(K_DIM)\n",
    "A = A / np.sqrt(np.sum(A**2, axis=1, keepdims=True))\n",
    "A = A.T\n",
    "\n",
    "Q = np.linalg.inv(A.T @ A) @ A.T\n",
    "P = A @ Q\n",
    "vm = np.max(np.abs(P))\n",
    "plt.matshow(P, vmax=vm, vmin=-vm, cmap=\"bwr\")"
   ]
  },
  {
   "cell_type": "code",
   "execution_count": 4,
   "id": "8e230791-4be1-45e4-bf6c-1e9e89380989",
   "metadata": {},
   "outputs": [],
   "source": [
    "p_datasets = {}\n",
    "for name, data in datasets.items():\n",
    "    p_datasets[name] = (Q @ data.T).T\n",
    "del datasets"
   ]
  },
  {
   "cell_type": "code",
   "execution_count": 5,
   "id": "871e6c38-72c3-4950-8b57-81e1ba93cd5a",
   "metadata": {},
   "outputs": [
    {
     "name": "stdout",
     "output_type": "stream",
     "text": [
      "CPU times: user 438 ms, sys: 378 ms, total: 816 ms\n",
      "Wall time: 414 ms\n"
     ]
    }
   ],
   "source": [
    "%%time\n",
    "from numba import njit\n",
    "\n",
    "@njit()\n",
    "def _fix(cov):\n",
    "    changed = True\n",
    "    while changed:\n",
    "        changed = False\n",
    "        for k in range(1, len(cov)):\n",
    "            for l in range(k, len(cov)):\n",
    "                # pivot point k, l\n",
    "                pivot = np.sign(cov[k, l])\n",
    "                if not np.isfinite(pivot):\n",
    "                    continue\n",
    "                if np.all(np.isfinite(cov[k, :])) and np.all(np.isfinite(cov[k, :])):\n",
    "                    continue\n",
    "                for m in range(len(cov)):\n",
    "                    if np.isfinite(cov[k, m]) and not np.isfinite(cov[m, l]):\n",
    "                        if cov[k, m] != 0 or pivot != 0:\n",
    "                            cov[l, m] = cov[m, l] = np.sign(cov[k, m] * pivot)\n",
    "                            changed = True\n",
    "                    elif not np.isfinite(cov[k, m]) and np.isfinite(cov[m, l]):\n",
    "                        if cov[m, l] != 0 or pivot != 0:\n",
    "                            cov[m, k] = cov[k, m] = np.sign(cov[m, l] * pivot)\n",
    "                            changed = True\n",
    "    return cov\n",
    "\n",
    "def fill_max_correlation(cov, target):\n",
    "    \"\"\"Fill the covariance matrix with elements to achieve maximum correlation.\n",
    "\n",
    "    Try to match the signs in \"target\".\n",
    "\n",
    "    Only replaces elements in \"cov\" that are NaN\n",
    "    \"\"\"\n",
    "\n",
    "    priority = np.unravel_index(\n",
    "        np.argsort(np.abs(target), axis=None)[::-1], target.shape\n",
    "    )\n",
    "\n",
    "    for i, j in zip(*priority):\n",
    "        if np.isfinite(cov[i, j]):\n",
    "            continue\n",
    "\n",
    "        # Set the new element\n",
    "        if target[i, j] == 0:\n",
    "            t = 1\n",
    "        else:\n",
    "            t = np.sign(target[i, j])\n",
    "\n",
    "        cov[i, j] = cov[j, i] = t\n",
    "\n",
    "        # vm = np.nanmax(np.abs(cov_worst))\n",
    "        # plt.matshow(cov_worst, vmin=-vm, vmax=vm, cmap=\"bwr\")\n",
    "        # print(cov)\n",
    "\n",
    "        # Check and fix connections to other elements\n",
    "        cov = _fix(cov)\n",
    "        \n",
    "    return cov\n",
    "\n",
    "\n",
    "#C = fill_max_correlation(np.full((500,500), np.nan), P)\n",
    "# np.linalg.eig(C)"
   ]
  },
  {
   "cell_type": "code",
   "execution_count": 6,
   "id": "b2168d73-c893-483e-ae8d-87b8aac4c7d8",
   "metadata": {},
   "outputs": [
    {
     "name": "stderr",
     "output_type": "stream",
     "text": [
      "/tmp/ipykernel_227513/44244084.py:25: RuntimeWarning: covariance is not positive-semidefinite.\n",
      "  data_worst = np.random.default_rng().multivariate_normal(\n"
     ]
    },
    {
     "name": "stdout",
     "output_type": "stream",
     "text": [
      "3 0.0026997960632601883 278.3263709951431 1.2631542385705485 1.1239013473479549\n"
     ]
    },
    {
     "data": {
      "image/png": "[encoded data removed]",
      "text/plain": [
       "<Figure size 288x288 with 1 Axes>"
      ]
     },
     "metadata": {
      "needs_background": "light"
     },
     "output_type": "display_data"
    }
   ],
   "source": [
    "# Get distance function and expected distribution\n",
    "from ipynb.fs.defs.covfit import inflated, naive\n",
    "from scipy.stats import chi2\n",
    "\n",
    "expected = chi2(df=K_DIM)\n",
    "\n",
    "# Worst case covariance\n",
    "cov_worst = np.full((N_DIM, N_DIM), np.nan)\n",
    "# block sizes, only applies to the \"block\" types of data!\n",
    "for i, ni in enumerate(BLOCKS):\n",
    "    bi = int(np.sum(BLOCKS[:i]))\n",
    "    cov_worst[bi : bi + ni, bi : bi + ni] = np.eye(ni)\n",
    "\n",
    "# Fill to match projection matrix\n",
    "fill_max_correlation(cov_worst, P)\n",
    "\n",
    "# Projected\n",
    "cov_worst_p = Q @ cov_worst @ Q.T\n",
    "\n",
    "vm = np.max(np.abs(cov_worst))\n",
    "plt.matshow(cov_worst, vmin=-vm, vmax=vm, cmap=\"bwr\")\n",
    "#print(cov_worst)\n",
    "\n",
    "# Get worst case distances\n",
    "data_worst = np.random.default_rng().multivariate_normal(\n",
    "    mean=np.zeros(K_DIM), cov=cov_worst_p, size=N_POINTS * 4\n",
    ")\n",
    "dist_worst = naive(data_worst)\n",
    "\n",
    "\n",
    "# Try to be conservative up to N sigma effects\n",
    "sigma_crit = 3\n",
    "p_crit = chi2.sf(sigma_crit**2, df=1)\n",
    "x_crit_worst = np.quantile(dist_worst, 1.0 - p_crit)\n",
    "x_crit_prime = chi2.isf(p_crit, df=K_DIM)\n",
    "alpha = x_crit_worst / x_crit_prime\n",
    "# alpha = 1.\n",
    "print(sigma_crit, p_crit, x_crit_prime, alpha, np.sqrt(alpha))\n",
    "\n",
    "del data_worst\n",
    "\n",
    "dist = lambda x: inflated(x, alpha=alpha)\n",
    "dname = \"projected\""
   ]
  },
  {
   "cell_type": "code",
   "execution_count": 7,
   "id": "c0aa4101-0b2e-40f0-85f4-6bf972ba0ec0",
   "metadata": {},
   "outputs": [],
   "source": [
    "# Compute distances\n",
    "distances = {}\n",
    "for name, data in p_datasets.items():\n",
    "    distances[name] = dist(data)"
   ]
  },
  {
   "cell_type": "code",
   "execution_count": 8,
   "id": "8cd29fb1-04c1-480b-8545-3342a263a352",
   "metadata": {},
   "outputs": [
    {
     "data": {
      "image/png": "[encoded data removed]",
      "text/plain": [
       "<Figure size 432x288 with 1 Axes>"
      ]
     },
     "metadata": {
      "needs_background": "light"
     },
     "output_type": "display_data"
    }
   ],
   "source": [
    "# Compare cumulative distributions\n",
    "fig, ax = plt.subplots()\n",
    "x = np.linspace(0, expected.mean() + expected.std() * 3, 100)\n",
    "for name in distances:\n",
    "    tot = len(distances[name])\n",
    "    count, bins = np.histogram(distances[name], bins=x)\n",
    "    cdf = np.cumsum(count) / tot\n",
    "    ax.plot(x[1:], cdf, label=name)\n",
    "ax.plot(x, expected.cdf(x), label=f\"expected\", linestyle=\"dashed\")\n",
    "# ax.plot(\n",
    "#    x,\n",
    "#    chi2(df=1).cdf(x / N_DIM * alpha),\n",
    "#    label=rf\"$\\chi^2_1 \\times {N_DIM} / {alpha:0.1f}$\",\n",
    "#    linestyle=\"dotted\",\n",
    "#    color=\"0.3\",\n",
    "# )\n",
    "ax.set_xlim(0, expected.mean() + expected.std() * 3)\n",
    "ax.set_xlabel(f\"{dname}$(\\mathbf{{x}})$\")\n",
    "ax.set_ylabel(\"CDF\")\n",
    "ax.legend(loc=\"lower right\")\n",
    "fig.tight_layout()\n",
    "fig.savefig(f\"plots/{dname}_cdf.pdf\")"
   ]
  },
  {
   "cell_type": "code",
   "execution_count": 9,
   "id": "60d36048-6439-4290-884a-f14d36a41e9e",
   "metadata": {},
   "outputs": [
    {
     "data": {
      "image/png": "[encoded data removed]",
      "text/plain": [
       "<Figure size 432x288 with 1 Axes>"
      ]
     },
     "metadata": {
      "needs_background": "light"
     },
     "output_type": "display_data"
    }
   ],
   "source": [
    "# siginifcance levels\n",
    "fig, ax = plt.subplots()\n",
    "for s in [1, 2, 3]:\n",
    "    SL = chi2.sf(s**2, df=1)\n",
    "    ax.axhline(SL, color=\"k\", linestyle=\"dotted\")\n",
    "    ax.axvline(SL, color=\"k\", linestyle=\"dotted\")\n",
    "    ax.annotate(f\"${s}\\sigma $ \", (SL, 0.05), xycoords=(\"data\", \"axes fraction\"))\n",
    "\n",
    "x = np.logspace(-3, 0, 200)\n",
    "for name, data in distances.items():\n",
    "    y = np.sum(data[:, np.newaxis] >= expected.isf(x), axis=0) / len(data)\n",
    "    ax.plot(x, y, label=name)\n",
    "ax.plot([1e-3, 1], [1e-3, 1], color=\"k\", linestyle=\"dashed\")\n",
    "ax.set_yscale(\"log\")\n",
    "ax.set_xscale(\"log\")\n",
    "ax.set_ylabel(r\"Real siginificance level $\\alpha'$\")\n",
    "ax.set_xlabel(r\"Assumed significance level $\\alpha$\")\n",
    "ax.legend(loc=\"upper left\")\n",
    "fig.tight_layout()\n",
    "fig.savefig(f\"plots/{dname}_significance.pdf\")"
   ]
  },
  {
   "cell_type": "code",
   "execution_count": 10,
   "id": "278606b6-5271-4aec-a66e-6c56b12a07e5",
   "metadata": {},
   "outputs": [],
   "source": [
    "del distances\n",
    "del data\n",
    "del p_datasets"
   ]
  },
  {
   "cell_type": "code",
   "execution_count": null,
   "id": "3b41c2ea-100f-4257-a99d-9a541c879a5d",
   "metadata": {},
   "outputs": [],
   "source": []
  }
 ],
 "metadata": {
  "kernelspec": {
   "display_name": "Python 3 (ipykernel)",
   "language": "python",
   "name": "python3"
  },
  "language_info": {
   "codemirror_mode": {
    "name": "ipython",
    "version": 3
   },
   "file_extension": ".py",
   "mimetype": "text/x-python",
   "name": "python",
   "nbconvert_exporter": "python",
   "pygments_lexer": "ipython3",
   "version": "3.8.10"
  }
 },
 "nbformat": 4,
 "nbformat_minor": 5
}
