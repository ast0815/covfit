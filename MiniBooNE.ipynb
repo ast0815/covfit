{
 "cells": [
  {
   "cell_type": "code",
   "execution_count": 1,
   "metadata": {},
   "outputs": [],
   "source": [
    "import numpy as np\n",
    "import uproot as up\n",
    "from matplotlib import pyplot as plt\n",
    "from ipynb.fs.defs.covfit import *\n",
    "from scipy.stats import chi2"
   ]
  },
  {
   "cell_type": "code",
   "execution_count": 2,
   "metadata": {},
   "outputs": [
    {
     "data": {
      "text/plain": [
       "[]"
      ]
     },
     "execution_count": 2,
     "metadata": {},
     "output_type": "execute_result"
    }
   ],
   "source": [
    "F = up.open(\"MB_CC0pi_GENIEv3.00.06.root\")\n",
    "[n for n in F.keys() if b\"abc\" in n]"
   ]
  },
  {
   "cell_type": "code",
   "execution_count": 3,
   "metadata": {},
   "outputs": [
    {
     "name": "stdout",
     "output_type": "stream",
     "text": [
      "1.5173044879071953\n"
     ]
    }
   ],
   "source": [
    "nu = \"antinu\"\n",
    "\n",
    "data = F[f\"MiniBooNE_CCQELike_XSec_2DTcos_{nu}_data_1D\"]\n",
    "data = data.numpy()[0]\n",
    "\n",
    "MC = F[f\"MiniBooNE_CCQELike_XSec_2DTcos_{nu}_MC_1D\"]\n",
    "MC = MC.numpy()[0]\n",
    "MC_scale = np.sum(data) / np.sum(MC)\n",
    "MC *= MC_scale\n",
    "print(MC_scale)\n",
    "\n",
    "cov = F[f\"MiniBooNE_CCQELike_XSec_2DTcos_{nu}_COV\"]\n",
    "var = np.diag(cov.numpy()[0]) * 1e-76"
   ]
  },
  {
   "cell_type": "code",
   "execution_count": 4,
   "metadata": {},
   "outputs": [
    {
     "data": {
      "text/plain": [
       "{'naive': 9.113471795997956e-25,\n",
       " 'fitted': 1.9159893394404826e-05,\n",
       " 'invariant': 4.127296959532955e-06}"
      ]
     },
     "execution_count": 4,
     "metadata": {},
     "output_type": "execute_result"
    }
   ],
   "source": [
    "# Shape-only p-values\n",
    "z = np.sqrt((data - MC)**2 / var)\n",
    "p = {}\n",
    "p[\"naive\"] = chi2(df=len(z)).sf(naive(z))\n",
    "p[\"fitted\"] = BEE2(df=len(z)).sf(fitted(z))\n",
    "p[\"invariant\"] = chi2(df=1).sf(invariant3(z, alpha=2/3))\n",
    "p"
   ]
  },
  {
   "cell_type": "code",
   "execution_count": 5,
   "metadata": {},
   "outputs": [
    {
     "data": {
      "text/plain": [
       "      fun: 249.34161440025395\n",
       " hess_inv: array([[1.15556759e-06]])\n",
       "      jac: array([2.47955322e-05])\n",
       "  message: 'Desired error not necessarily achieved due to precision loss.'\n",
       "     nfev: 48\n",
       "      nit: 2\n",
       "     njev: 18\n",
       "   status: 2\n",
       "  success: False\n",
       "        x: array([0.92155038])"
      ]
     },
     "execution_count": 5,
     "metadata": {},
     "output_type": "execute_result"
    }
   ],
   "source": [
    "def fun(scale):\n",
    "    return np.sum((data - scale*MC)**2 / var)\n",
    "\n",
    "from scipy.optimize import minimize\n",
    "opt = minimize(fun, 1)\n",
    "opt"
   ]
  },
  {
   "cell_type": "code",
   "execution_count": 12,
   "metadata": {},
   "outputs": [
    {
     "data": {
      "text/plain": [
       "{'naive': 4.7147328023972437e-20,\n",
       " 'fitted': 0.00033121307955430446,\n",
       " 'invariant': 0.0003156359348547304}"
      ]
     },
     "execution_count": 12,
     "metadata": {},
     "output_type": "execute_result"
    }
   ],
   "source": [
    "# Fitted p-values\n",
    "z = np.sqrt((data - opt.x * MC)**2 / var)\n",
    "p = {}\n",
    "p[\"naive\"] = chi2(df=len(z)-1).sf(naive(z))\n",
    "p[\"fitted\"] = BEE2(df=len(z)).sf(fitted(z))\n",
    "p[\"invariant\"] = chi2(df=1).sf(invariant3(z, alpha=2/3))\n",
    "p"
   ]
  },
  {
   "cell_type": "code",
   "execution_count": 14,
   "metadata": {},
   "outputs": [
    {
     "data": {
      "text/plain": [
       "(1e-41, 2.3734730823896866e-38)"
      ]
     },
     "execution_count": 14,
     "metadata": {},
     "output_type": "execute_result"
    },
    {
     "data": {
      "image/png": "[encoded data removed]",
      "text/plain": [
       "<Figure size 432x288 with 1 Axes>"
      ]
     },
     "metadata": {
      "needs_background": "light"
     },
     "output_type": "display_data"
    }
   ],
   "source": [
    "plt.errorbar(np.arange(len(data)), data, np.sqrt(var), linestyle=\"\")\n",
    "plt.step(np.arange(len(MC)), MC, where=\"mid\")\n",
    "plt.yscale(\"log\")\n",
    "plt.ylim(1e-41)"
   ]
  },
  {
   "cell_type": "code",
   "execution_count": null,
   "metadata": {},
   "outputs": [],
   "source": []
  }
 ],
 "metadata": {
  "kernelspec": {
   "display_name": "Python 3",
   "language": "python",
   "name": "python3"
  },
  "language_info": {
   "codemirror_mode": {
    "name": "ipython",
    "version": 3
   },
   "file_extension": ".py",
   "mimetype": "text/x-python",
   "name": "python",
   "nbconvert_exporter": "python",
   "pygments_lexer": "ipython3",
   "version": "3.7.3"
  }
 },
 "nbformat": 4,
 "nbformat_minor": 4
}
