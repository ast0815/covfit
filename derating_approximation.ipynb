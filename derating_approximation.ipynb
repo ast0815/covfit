{
 "cells": [
  {
   "cell_type": "code",
   "execution_count": 420,
   "id": "2a30f143-3fa4-433d-9858-6fe90b62039b",
   "metadata": {},
   "outputs": [],
   "source": [
    "from tqdm.notebook import tqdm, trange\n",
    "import numpy as np\n",
    "import pandas as pd\n",
    "import seaborn as sns\n",
    "from matplotlib import pyplot as plt\n",
    "from nustattools.stats import derate_covariance\n",
    "from scipy.stats import chi2, norm\n",
    "from scipy.special import erf\n",
    "from scipy.optimize import least_squares"
   ]
  },
  {
   "cell_type": "code",
   "execution_count": 2,
   "id": "fd3258bd-9944-4a62-98a7-3be4b48baec0",
   "metadata": {},
   "outputs": [],
   "source": [
    "blocks_list = []\n",
    "for k in [10, 30, 50, 100, 400]:\n",
    "    l = k // 10\n",
    "    blocks_list.extend(\n",
    "        [\n",
    "            [k - 1, 1],\n",
    "            [k - 4, 1, 1, 1, 1],\n",
    "            [l * 5, l * 2, l, l, l],\n",
    "            [l * 4, l * 2, l * 2, l, l],\n",
    "            [l * 3, l * 3, l * 2, l, l],\n",
    "            [l] * 10,\n",
    "            [l * 2] * 5,\n",
    "            [l * 3] * 3 + [l],\n",
    "            [l * 4] * 2 + [l * 2],\n",
    "            [l * 6, l * 2, l * 2],\n",
    "            [l * 5, l * 4, l * 1],\n",
    "        ]\n",
    "    )\n",
    "# blocks_list"
   ]
  },
  {
   "cell_type": "code",
   "execution_count": 3,
   "id": "dfc369b9-adf1-4a1b-b9fe-b78f82acaa63",
   "metadata": {},
   "outputs": [],
   "source": [
    "k_list = [np.sum(blocks) for blocks in blocks_list]"
   ]
  },
  {
   "cell_type": "code",
   "execution_count": 4,
   "id": "19ca0bcb-0272-422c-b22b-204531f81dac",
   "metadata": {},
   "outputs": [],
   "source": [
    "avg_block_list = []\n",
    "for blocks in blocks_list:\n",
    "    avg = 0\n",
    "    for i, n in enumerate(blocks):\n",
    "        avg += (i + 1) * n\n",
    "    avg /= np.sum(blocks)\n",
    "    avg_block_list.append(avg)"
   ]
  },
  {
   "cell_type": "code",
   "execution_count": 5,
   "id": "e3c69831-d5bc-4480-9ac4-4ede770d3717",
   "metadata": {},
   "outputs": [
    {
     "data": {
      "application/vnd.jupyter.widget-view+json": {
       "model_id": "e43e06315f6f45f3b17e2ee03d763447",
       "version_major": 2,
       "version_minor": 0
      },
      "text/plain": [
       "  0%|          | 0/55 [00:00<?, ?it/s]"
      ]
     },
     "metadata": {},
     "output_type": "display_data"
    }
   ],
   "source": [
    "derate_list = []\n",
    "acc = 0.01\n",
    "for blocks in tqdm(blocks_list):\n",
    "    k = np.sum(blocks)\n",
    "    cov = np.full((k, k), np.nan)\n",
    "    for i, ni in enumerate(blocks):\n",
    "        bi = int(np.sum(blocks[:i]))\n",
    "        cov[bi : bi + ni, bi : bi + ni] = np.eye(ni)\n",
    "    derate_list.append(derate_covariance(cov, accuracy=acc))"
   ]
  },
  {
   "cell_type": "code",
   "execution_count": 6,
   "id": "5842321e-73b1-4b26-b9a0-3ba0d6de4395",
   "metadata": {},
   "outputs": [],
   "source": [
    "limit_list = []\n",
    "sigma = 3\n",
    "gamma = chi2(df=1).cdf(sigma**2)\n",
    "for k, i in zip(k_list, avg_block_list):\n",
    "    limit_list.append(\n",
    "        (np.sqrt(2 * k * (2 * i - 1) * (4 / (9 * (1 - gamma)))) + k)\n",
    "        / chi2(df=k).ppf(gamma)\n",
    "    )"
   ]
  },
  {
   "cell_type": "code",
   "execution_count": 7,
   "id": "e84e16ff-a865-4d12-9146-0f99245286e2",
   "metadata": {},
   "outputs": [],
   "source": [
    "var_list = []\n",
    "for k, i in zip(k_list, avg_block_list):\n",
    "    var_list.append(2 * k * (2 * i - 1))"
   ]
  },
  {
   "cell_type": "code",
   "execution_count": 303,
   "id": "227871ec-726d-4b78-a054-c00a131b0001",
   "metadata": {},
   "outputs": [],
   "source": [
    "blocks_list_b = []\n",
    "for k in [4, 20, 40, 60, 100, 160, 220, 280, 320, 380]:\n",
    "    blocks_list_b.extend(\n",
    "        [\n",
    "            [1]*k,\n",
    "            [2]*(k//2),\n",
    "            [4]*(k//4),\n",
    "        ]\n",
    "    )\n",
    "# blocks_list"
   ]
  },
  {
   "cell_type": "code",
   "execution_count": 304,
   "id": "9118476e-2cde-4ebb-90c4-0156e1d30eaf",
   "metadata": {},
   "outputs": [],
   "source": [
    "k_list_b = [np.sum(blocks) for blocks in blocks_list_b]"
   ]
  },
  {
   "cell_type": "code",
   "execution_count": 305,
   "id": "cace05c2-d279-4b43-ae72-41f1e20ca443",
   "metadata": {},
   "outputs": [],
   "source": [
    "avg_block_list_b = []\n",
    "for blocks in blocks_list_b:\n",
    "    avg = 0\n",
    "    for i, n in enumerate(blocks):\n",
    "        avg += (i + 1) * n\n",
    "    avg /= np.sum(blocks)\n",
    "    avg_block_list_b.append(avg)"
   ]
  },
  {
   "cell_type": "code",
   "execution_count": 406,
   "id": "59c4605d-91c3-4eef-a0df-aaa47ab18e38",
   "metadata": {},
   "outputs": [],
   "source": [
    "block_size_list = [k // len(blocks) for k, blocks in zip(k_list, blocks_list)]\n",
    "block_size_list_b = [k // len(blocks) for k, blocks in zip(k_list_b, blocks_list_b)]"
   ]
  },
  {
   "cell_type": "code",
   "execution_count": 307,
   "id": "8fd988ba-cb36-477b-a66e-38f5595d7615",
   "metadata": {},
   "outputs": [
    {
     "data": {
      "application/vnd.jupyter.widget-view+json": {
       "model_id": "cd069da99b3c42a0a4f8c969889e5c31",
       "version_major": 2,
       "version_minor": 0
      },
      "text/plain": [
       "  0%|          | 0/30 [00:00<?, ?it/s]"
      ]
     },
     "metadata": {},
     "output_type": "display_data"
    }
   ],
   "source": [
    "derate_list_b = []\n",
    "for blocks in tqdm(blocks_list_b):\n",
    "    k = np.sum(blocks)\n",
    "    cov = np.full((k, k), np.nan)\n",
    "    for i, ni in enumerate(blocks):\n",
    "        bi = int(np.sum(blocks[:i]))\n",
    "        cov[bi : bi + ni, bi : bi + ni] = np.eye(ni)\n",
    "    derate_list_b.append(derate_covariance(cov, accuracy=acc))"
   ]
  },
  {
   "cell_type": "code",
   "execution_count": 308,
   "id": "6c3eda4f-14cd-4a76-9b73-672d06399c73",
   "metadata": {},
   "outputs": [],
   "source": [
    "limit_list_b = []\n",
    "sigma = 3\n",
    "gamma = chi2(df=1).cdf(sigma**2)\n",
    "for k, i in zip(k_list_b, avg_block_list_b):\n",
    "    limit_list_b.append(\n",
    "        (np.sqrt(2 * k * (2 * i - 1) * (4 / (9 * (1 - gamma)))) + k)\n",
    "        / chi2(df=k).ppf(gamma)\n",
    "    )"
   ]
  },
  {
   "cell_type": "code",
   "execution_count": 309,
   "id": "49a756e2-998b-4dd6-9413-f56f64c017b4",
   "metadata": {},
   "outputs": [],
   "source": [
    "var_list_b = []\n",
    "for k, i in zip(k_list_b, avg_block_list_b):\n",
    "    var_list_b.append(2 * k * (2 * i - 1))"
   ]
  },
  {
   "cell_type": "code",
   "execution_count": 8,
   "id": "5ae3947d-4673-4011-8c7b-cd4394747d48",
   "metadata": {},
   "outputs": [
    {
     "name": "stdout",
     "output_type": "stream",
     "text": [
      "Detected IPython. Loading juliacall extension. See https://juliapy.github.io/PythonCall.jl/stable/compat/#IPython\n"
     ]
    }
   ],
   "source": [
    "import pysr as sr"
   ]
  },
  {
   "cell_type": "code",
   "execution_count": 553,
   "id": "bf229319-1226-4b58-85ae-d33629082f62",
   "metadata": {},
   "outputs": [],
   "source": [
    "model = sr.PySRRegressor(\n",
    "    unary_operators=[\"sqrt\"],\n",
    "    niterations=50,\n",
    "    complexity_of_constants=2,\n",
    "    warm_start=True,\n",
    "    temp_equation_file=True,\n",
    "    verbosity=0,\n",
    ")"
   ]
  },
  {
   "cell_type": "code",
   "execution_count": 554,
   "id": "c4ce26dc-47b3-4905-bdf1-959417355efb",
   "metadata": {},
   "outputs": [],
   "source": [
    "#X = pd.DataFrame({\"k\": k_list + k_list_b, \"i\": avg_block_list + avg_block_list_b})\n",
    "X = pd.DataFrame({\"k\": k_list + k_list_b,\n",
    "                  \"i\": avg_block_list + avg_block_list_b,\n",
    "                  \"V\": var_list + var_list_b})\n",
    "y = np.array(derate_list + derate_list_b)"
   ]
  },
  {
   "cell_type": "code",
   "execution_count": 573,
   "id": "b993f58f-7bb6-4104-a141-11c026518914",
   "metadata": {
    "tags": []
   },
   "outputs": [
    {
     "data": {
      "application/vnd.jupyter.widget-view+json": {
       "model_id": "ccbd8f84ffe74117aebccb9a3db3417b",
       "version_major": 2,
       "version_minor": 0
      },
      "text/plain": [
       "  0%|          | 0/40 [00:00<?, ?it/s]"
      ]
     },
     "metadata": {},
     "output_type": "display_data"
    },
    {
     "name": "stderr",
     "output_type": "stream",
     "text": [
      "/home/lukas/.local/lib/python3.8/site-packages/pysr/sr.py:2582: UserWarning: Note: it looks like you are running in Jupyter. The progress bar will be turned off.\n",
      "  warnings.warn(\n",
      "/home/lukas/.local/lib/python3.8/site-packages/pysr/sr.py:2582: UserWarning: Note: it looks like you are running in Jupyter. The progress bar will be turned off.\n",
      "  warnings.warn(\n",
      "/home/lukas/.local/lib/python3.8/site-packages/pysr/sr.py:2582: UserWarning: Note: it looks like you are running in Jupyter. The progress bar will be turned off.\n",
      "  warnings.warn(\n",
      "/home/lukas/.local/lib/python3.8/site-packages/pysr/sr.py:2582: UserWarning: Note: it looks like you are running in Jupyter. The progress bar will be turned off.\n",
      "  warnings.warn(\n",
      "/home/lukas/.local/lib/python3.8/site-packages/pysr/sr.py:2582: UserWarning: Note: it looks like you are running in Jupyter. The progress bar will be turned off.\n",
      "  warnings.warn(\n",
      "/home/lukas/.local/lib/python3.8/site-packages/pysr/sr.py:2582: UserWarning: Note: it looks like you are running in Jupyter. The progress bar will be turned off.\n",
      "  warnings.warn(\n",
      "/home/lukas/.local/lib/python3.8/site-packages/pysr/sr.py:2582: UserWarning: Note: it looks like you are running in Jupyter. The progress bar will be turned off.\n",
      "  warnings.warn(\n",
      "/home/lukas/.local/lib/python3.8/site-packages/pysr/sr.py:2582: UserWarning: Note: it looks like you are running in Jupyter. The progress bar will be turned off.\n",
      "  warnings.warn(\n",
      "/home/lukas/.local/lib/python3.8/site-packages/pysr/sr.py:2582: UserWarning: Note: it looks like you are running in Jupyter. The progress bar will be turned off.\n",
      "  warnings.warn(\n",
      "/home/lukas/.local/lib/python3.8/site-packages/pysr/sr.py:2582: UserWarning: Note: it looks like you are running in Jupyter. The progress bar will be turned off.\n",
      "  warnings.warn(\n",
      "/home/lukas/.local/lib/python3.8/site-packages/pysr/sr.py:2582: UserWarning: Note: it looks like you are running in Jupyter. The progress bar will be turned off.\n",
      "  warnings.warn(\n",
      "/home/lukas/.local/lib/python3.8/site-packages/pysr/sr.py:2582: UserWarning: Note: it looks like you are running in Jupyter. The progress bar will be turned off.\n",
      "  warnings.warn(\n",
      "/home/lukas/.local/lib/python3.8/site-packages/pysr/sr.py:2582: UserWarning: Note: it looks like you are running in Jupyter. The progress bar will be turned off.\n",
      "  warnings.warn(\n",
      "/home/lukas/.local/lib/python3.8/site-packages/pysr/sr.py:2582: UserWarning: Note: it looks like you are running in Jupyter. The progress bar will be turned off.\n",
      "  warnings.warn(\n",
      "/home/lukas/.local/lib/python3.8/site-packages/pysr/sr.py:2582: UserWarning: Note: it looks like you are running in Jupyter. The progress bar will be turned off.\n",
      "  warnings.warn(\n",
      "/home/lukas/.local/lib/python3.8/site-packages/pysr/sr.py:2582: UserWarning: Note: it looks like you are running in Jupyter. The progress bar will be turned off.\n",
      "  warnings.warn(\n",
      "/home/lukas/.local/lib/python3.8/site-packages/pysr/sr.py:2582: UserWarning: Note: it looks like you are running in Jupyter. The progress bar will be turned off.\n",
      "  warnings.warn(\n",
      "/home/lukas/.local/lib/python3.8/site-packages/pysr/sr.py:2582: UserWarning: Note: it looks like you are running in Jupyter. The progress bar will be turned off.\n",
      "  warnings.warn(\n",
      "/home/lukas/.local/lib/python3.8/site-packages/pysr/sr.py:2582: UserWarning: Note: it looks like you are running in Jupyter. The progress bar will be turned off.\n",
      "  warnings.warn(\n",
      "/home/lukas/.local/lib/python3.8/site-packages/pysr/sr.py:2582: UserWarning: Note: it looks like you are running in Jupyter. The progress bar will be turned off.\n",
      "  warnings.warn(\n",
      "/home/lukas/.local/lib/python3.8/site-packages/pysr/sr.py:2582: UserWarning: Note: it looks like you are running in Jupyter. The progress bar will be turned off.\n",
      "  warnings.warn(\n",
      "/home/lukas/.local/lib/python3.8/site-packages/pysr/sr.py:2582: UserWarning: Note: it looks like you are running in Jupyter. The progress bar will be turned off.\n",
      "  warnings.warn(\n",
      "/home/lukas/.local/lib/python3.8/site-packages/pysr/sr.py:2582: UserWarning: Note: it looks like you are running in Jupyter. The progress bar will be turned off.\n",
      "  warnings.warn(\n",
      "/home/lukas/.local/lib/python3.8/site-packages/pysr/sr.py:2582: UserWarning: Note: it looks like you are running in Jupyter. The progress bar will be turned off.\n",
      "  warnings.warn(\n",
      "/home/lukas/.local/lib/python3.8/site-packages/pysr/sr.py:2582: UserWarning: Note: it looks like you are running in Jupyter. The progress bar will be turned off.\n",
      "  warnings.warn(\n",
      "/home/lukas/.local/lib/python3.8/site-packages/pysr/sr.py:2582: UserWarning: Note: it looks like you are running in Jupyter. The progress bar will be turned off.\n",
      "  warnings.warn(\n",
      "/home/lukas/.local/lib/python3.8/site-packages/pysr/sr.py:2582: UserWarning: Note: it looks like you are running in Jupyter. The progress bar will be turned off.\n",
      "  warnings.warn(\n",
      "/home/lukas/.local/lib/python3.8/site-packages/pysr/sr.py:2582: UserWarning: Note: it looks like you are running in Jupyter. The progress bar will be turned off.\n",
      "  warnings.warn(\n",
      "/home/lukas/.local/lib/python3.8/site-packages/pysr/sr.py:2582: UserWarning: Note: it looks like you are running in Jupyter. The progress bar will be turned off.\n",
      "  warnings.warn(\n",
      "/home/lukas/.local/lib/python3.8/site-packages/pysr/sr.py:2582: UserWarning: Note: it looks like you are running in Jupyter. The progress bar will be turned off.\n",
      "  warnings.warn(\n",
      "/home/lukas/.local/lib/python3.8/site-packages/pysr/sr.py:2582: UserWarning: Note: it looks like you are running in Jupyter. The progress bar will be turned off.\n",
      "  warnings.warn(\n",
      "/home/lukas/.local/lib/python3.8/site-packages/pysr/sr.py:2582: UserWarning: Note: it looks like you are running in Jupyter. The progress bar will be turned off.\n",
      "  warnings.warn(\n",
      "/home/lukas/.local/lib/python3.8/site-packages/pysr/sr.py:2582: UserWarning: Note: it looks like you are running in Jupyter. The progress bar will be turned off.\n",
      "  warnings.warn(\n",
      "/home/lukas/.local/lib/python3.8/site-packages/pysr/sr.py:2582: UserWarning: Note: it looks like you are running in Jupyter. The progress bar will be turned off.\n",
      "  warnings.warn(\n",
      "/home/lukas/.local/lib/python3.8/site-packages/pysr/sr.py:2582: UserWarning: Note: it looks like you are running in Jupyter. The progress bar will be turned off.\n",
      "  warnings.warn(\n",
      "/home/lukas/.local/lib/python3.8/site-packages/pysr/sr.py:2582: UserWarning: Note: it looks like you are running in Jupyter. The progress bar will be turned off.\n",
      "  warnings.warn(\n",
      "/home/lukas/.local/lib/python3.8/site-packages/pysr/sr.py:2582: UserWarning: Note: it looks like you are running in Jupyter. The progress bar will be turned off.\n",
      "  warnings.warn(\n",
      "/home/lukas/.local/lib/python3.8/site-packages/pysr/sr.py:2582: UserWarning: Note: it looks like you are running in Jupyter. The progress bar will be turned off.\n",
      "  warnings.warn(\n",
      "/home/lukas/.local/lib/python3.8/site-packages/pysr/sr.py:2582: UserWarning: Note: it looks like you are running in Jupyter. The progress bar will be turned off.\n",
      "  warnings.warn(\n",
      "/home/lukas/.local/lib/python3.8/site-packages/pysr/sr.py:2582: UserWarning: Note: it looks like you are running in Jupyter. The progress bar will be turned off.\n",
      "  warnings.warn(\n"
     ]
    }
   ],
   "source": [
    "for _ in trange(4*10):\n",
    "    model.fit(X, y)"
   ]
  },
  {
   "cell_type": "code",
   "execution_count": 574,
   "id": "9f3aa987-2353-44fd-aab3-59e789a92d93",
   "metadata": {},
   "outputs": [
    {
     "data": {
      "text/html": [
       "<style>#sk-container-id-12 {color: black;}#sk-container-id-12 pre{padding: 0;}#sk-container-id-12 div.sk-toggleable {background-color: white;}#sk-container-id-12 label.sk-toggleable__label {cursor: pointer;display: block;width: 100%;margin-bottom: 0;padding: 0.3em;box-sizing: border-box;text-align: center;}#sk-container-id-12 label.sk-toggleable__label-arrow:before {content: \"▸\";float: left;margin-right: 0.25em;color: #696969;}#sk-container-id-12 label.sk-toggleable__label-arrow:hover:before {color: black;}#sk-container-id-12 div.sk-estimator:hover label.sk-toggleable__label-arrow:before {color: black;}#sk-container-id-12 div.sk-toggleable__content {max-height: 0;max-width: 0;overflow: hidden;text-align: left;background-color: #f0f8ff;}#sk-container-id-12 div.sk-toggleable__content pre {margin: 0.2em;color: black;border-radius: 0.25em;background-color: #f0f8ff;}#sk-container-id-12 input.sk-toggleable__control:checked~div.sk-toggleable__content {max-height: 200px;max-width: 100%;overflow: auto;}#sk-container-id-12 input.sk-toggleable__control:checked~label.sk-toggleable__label-arrow:before {content: \"▾\";}#sk-container-id-12 div.sk-estimator input.sk-toggleable__control:checked~label.sk-toggleable__label {background-color: #d4ebff;}#sk-container-id-12 div.sk-label input.sk-toggleable__control:checked~label.sk-toggleable__label {background-color: #d4ebff;}#sk-container-id-12 input.sk-hidden--visually {border: 0;clip: rect(1px 1px 1px 1px);clip: rect(1px, 1px, 1px, 1px);height: 1px;margin: -1px;overflow: hidden;padding: 0;position: absolute;width: 1px;}#sk-container-id-12 div.sk-estimator {font-family: monospace;background-color: #f0f8ff;border: 1px dotted black;border-radius: 0.25em;box-sizing: border-box;margin-bottom: 0.5em;}#sk-container-id-12 div.sk-estimator:hover {background-color: #d4ebff;}#sk-container-id-12 div.sk-parallel-item::after {content: \"\";width: 100%;border-bottom: 1px solid gray;flex-grow: 1;}#sk-container-id-12 div.sk-label:hover label.sk-toggleable__label {background-color: #d4ebff;}#sk-container-id-12 div.sk-serial::before {content: \"\";position: absolute;border-left: 1px solid gray;box-sizing: border-box;top: 0;bottom: 0;left: 50%;z-index: 0;}#sk-container-id-12 div.sk-serial {display: flex;flex-direction: column;align-items: center;background-color: white;padding-right: 0.2em;padding-left: 0.2em;position: relative;}#sk-container-id-12 div.sk-item {position: relative;z-index: 1;}#sk-container-id-12 div.sk-parallel {display: flex;align-items: stretch;justify-content: center;background-color: white;position: relative;}#sk-container-id-12 div.sk-item::before, #sk-container-id-12 div.sk-parallel-item::before {content: \"\";position: absolute;border-left: 1px solid gray;box-sizing: border-box;top: 0;bottom: 0;left: 50%;z-index: -1;}#sk-container-id-12 div.sk-parallel-item {display: flex;flex-direction: column;z-index: 1;position: relative;background-color: white;}#sk-container-id-12 div.sk-parallel-item:first-child::after {align-self: flex-end;width: 50%;}#sk-container-id-12 div.sk-parallel-item:last-child::after {align-self: flex-start;width: 50%;}#sk-container-id-12 div.sk-parallel-item:only-child::after {width: 0;}#sk-container-id-12 div.sk-dashed-wrapped {border: 1px dashed gray;margin: 0 0.4em 0.5em 0.4em;box-sizing: border-box;padding-bottom: 0.4em;background-color: white;}#sk-container-id-12 div.sk-label label {font-family: monospace;font-weight: bold;display: inline-block;line-height: 1.2em;}#sk-container-id-12 div.sk-label-container {text-align: center;}#sk-container-id-12 div.sk-container {/* jupyter's `normalize.less` sets `[hidden] { display: none; }` but bootstrap.min.css set `[hidden] { display: none !important; }` so we also need the `!important` here to be able to override the default hidden behavior on the sphinx rendered scikit-learn.org. See: https://github.com/scikit-learn/scikit-learn/issues/21755 */display: inline-block !important;position: relative;}#sk-container-id-12 div.sk-text-repr-fallback {display: none;}</style><div id=\"sk-container-id-12\" class=\"sk-top-container\"><div class=\"sk-text-repr-fallback\"><pre>PySRRegressor.equations_ = [\n",
       "\t    pick         score                                           equation  \\\n",
       "\t0         0.000000e+00                                                  i   \n",
       "\t1         6.277030e+00                                            sqrt(i)   \n",
       "\t2         4.492431e-01                                      sqrt(sqrt(i))   \n",
       "\t3         2.959869e-01                                sqrt(sqrt(sqrt(V)))   \n",
       "\t4         6.743895e-01                                  sqrt(sqrt(V / k))   \n",
       "\t5         5.393166e-01                            sqrt(sqrt(sqrt(i) * i))   \n",
       "\t6         1.953162e-01                            sqrt(sqrt(V / (k - i)))   \n",
       "\t7         1.167360e+00                     sqrt(i / sqrt(k)) / 0.40926167   \n",
       "\t8         1.024367e-07                sqrt(5.9699545) * sqrt(i / sqrt(k))   \n",
       "\t9         2.600769e-01                  sqrt(sqrt(V * sqrt(V)) / (k - i))   \n",
       "\t10        2.537097e-01        (sqrt(sqrt(sqrt(V)) * V) / k) - -0.66922677   \n",
       "\t11        7.005164e-02           sqrt((V / sqrt(k - i)) / k) + 0.41459954   \n",
       "\t12  &gt;&gt;&gt;&gt;  8.143011e-01  sqrt(sqrt(i)) + ((i / 0.13153805) / (14.146747...   \n",
       "\t13        1.473917e-03  sqrt(sqrt(i)) + (((i / 0.14833274) + i) / (k +...   \n",
       "\t14        2.910722e-01  sqrt(sqrt(i)) + (((i - 0.71952397) / 0.1357622...   \n",
       "\t15        3.370023e-02  (((i / 0.13224064) / (12.094317 + k)) + sqrt(s...   \n",
       "\t16        3.663369e-02  (((i / 0.13224064) / (11.414799 + k)) + sqrt(s...   \n",
       "\t17        3.753866e-03  (sqrt(sqrt(i)) + ((i / 0.13283803) / (k + 11.5...   \n",
       "\t\n",
       "\t           loss  complexity  \n",
       "\t0   1439.400500           1  \n",
       "\t1      2.704596           2  \n",
       "\t2      1.725832           3  \n",
       "\t3      1.283669           4  \n",
       "\t4      0.653988           5  \n",
       "\t5      0.381371           6  \n",
       "\t6      0.313706           7  \n",
       "\t7      0.097621           8  \n",
       "\t8      0.097621           9  \n",
       "\t9      0.075265          10  \n",
       "\t10     0.058400          11  \n",
       "\t11     0.054449          12  \n",
       "\t12     0.024118          13  \n",
       "\t13     0.024047          15  \n",
       "\t14     0.017974          16  \n",
       "\t15     0.016803          18  \n",
       "\t16     0.016198          19  \n",
       "\t17     0.016138          20  \n",
       "]</pre><b>In a Jupyter environment, please rerun this cell to show the HTML representation or trust the notebook. <br />On GitHub, the HTML representation is unable to render, please try loading this page with nbviewer.org.</b></div><div class=\"sk-container\" hidden><div class=\"sk-item\"><div class=\"sk-estimator sk-toggleable\"><input class=\"sk-toggleable__control sk-hidden--visually\" id=\"sk-estimator-id-12\" type=\"checkbox\" checked><label for=\"sk-estimator-id-12\" class=\"sk-toggleable__label sk-toggleable__label-arrow\">PySRRegressor</label><div class=\"sk-toggleable__content\"><pre>PySRRegressor.equations_ = [\n",
       "\t    pick         score                                           equation  \\\n",
       "\t0         0.000000e+00                                                  i   \n",
       "\t1         6.277030e+00                                            sqrt(i)   \n",
       "\t2         4.492431e-01                                      sqrt(sqrt(i))   \n",
       "\t3         2.959869e-01                                sqrt(sqrt(sqrt(V)))   \n",
       "\t4         6.743895e-01                                  sqrt(sqrt(V / k))   \n",
       "\t5         5.393166e-01                            sqrt(sqrt(sqrt(i) * i))   \n",
       "\t6         1.953162e-01                            sqrt(sqrt(V / (k - i)))   \n",
       "\t7         1.167360e+00                     sqrt(i / sqrt(k)) / 0.40926167   \n",
       "\t8         1.024367e-07                sqrt(5.9699545) * sqrt(i / sqrt(k))   \n",
       "\t9         2.600769e-01                  sqrt(sqrt(V * sqrt(V)) / (k - i))   \n",
       "\t10        2.537097e-01        (sqrt(sqrt(sqrt(V)) * V) / k) - -0.66922677   \n",
       "\t11        7.005164e-02           sqrt((V / sqrt(k - i)) / k) + 0.41459954   \n",
       "\t12  &gt;&gt;&gt;&gt;  8.143011e-01  sqrt(sqrt(i)) + ((i / 0.13153805) / (14.146747...   \n",
       "\t13        1.473917e-03  sqrt(sqrt(i)) + (((i / 0.14833274) + i) / (k +...   \n",
       "\t14        2.910722e-01  sqrt(sqrt(i)) + (((i - 0.71952397) / 0.1357622...   \n",
       "\t15        3.370023e-02  (((i / 0.13224064) / (12.094317 + k)) + sqrt(s...   \n",
       "\t16        3.663369e-02  (((i / 0.13224064) / (11.414799 + k)) + sqrt(s...   \n",
       "\t17        3.753866e-03  (sqrt(sqrt(i)) + ((i / 0.13283803) / (k + 11.5...   \n",
       "\t\n",
       "\t           loss  complexity  \n",
       "\t0   1439.400500           1  \n",
       "\t1      2.704596           2  \n",
       "\t2      1.725832           3  \n",
       "\t3      1.283669           4  \n",
       "\t4      0.653988           5  \n",
       "\t5      0.381371           6  \n",
       "\t6      0.313706           7  \n",
       "\t7      0.097621           8  \n",
       "\t8      0.097621           9  \n",
       "\t9      0.075265          10  \n",
       "\t10     0.058400          11  \n",
       "\t11     0.054449          12  \n",
       "\t12     0.024118          13  \n",
       "\t13     0.024047          15  \n",
       "\t14     0.017974          16  \n",
       "\t15     0.016803          18  \n",
       "\t16     0.016198          19  \n",
       "\t17     0.016138          20  \n",
       "]</pre></div></div></div></div></div>"
      ],
      "text/plain": [
       "PySRRegressor.equations_ = [\n",
       "\t    pick         score                                           equation  \\\n",
       "\t0         0.000000e+00                                                  i   \n",
       "\t1         6.277030e+00                                            sqrt(i)   \n",
       "\t2         4.492431e-01                                      sqrt(sqrt(i))   \n",
       "\t3         2.959869e-01                                sqrt(sqrt(sqrt(V)))   \n",
       "\t4         6.743895e-01                                  sqrt(sqrt(V / k))   \n",
       "\t5         5.393166e-01                            sqrt(sqrt(sqrt(i) * i))   \n",
       "\t6         1.953162e-01                            sqrt(sqrt(V / (k - i)))   \n",
       "\t7         1.167360e+00                     sqrt(i / sqrt(k)) / 0.40926167   \n",
       "\t8         1.024367e-07                sqrt(5.9699545) * sqrt(i / sqrt(k))   \n",
       "\t9         2.600769e-01                  sqrt(sqrt(V * sqrt(V)) / (k - i))   \n",
       "\t10        2.537097e-01        (sqrt(sqrt(sqrt(V)) * V) / k) - -0.66922677   \n",
       "\t11        7.005164e-02           sqrt((V / sqrt(k - i)) / k) + 0.41459954   \n",
       "\t12  >>>>  8.143011e-01  sqrt(sqrt(i)) + ((i / 0.13153805) / (14.146747...   \n",
       "\t13        1.473917e-03  sqrt(sqrt(i)) + (((i / 0.14833274) + i) / (k +...   \n",
       "\t14        2.910722e-01  sqrt(sqrt(i)) + (((i - 0.71952397) / 0.1357622...   \n",
       "\t15        3.370023e-02  (((i / 0.13224064) / (12.094317 + k)) + sqrt(s...   \n",
       "\t16        3.663369e-02  (((i / 0.13224064) / (11.414799 + k)) + sqrt(s...   \n",
       "\t17        3.753866e-03  (sqrt(sqrt(i)) + ((i / 0.13283803) / (k + 11.5...   \n",
       "\t\n",
       "\t           loss  complexity  \n",
       "\t0   1439.400500           1  \n",
       "\t1      2.704596           2  \n",
       "\t2      1.725832           3  \n",
       "\t3      1.283669           4  \n",
       "\t4      0.653988           5  \n",
       "\t5      0.381371           6  \n",
       "\t6      0.313706           7  \n",
       "\t7      0.097621           8  \n",
       "\t8      0.097621           9  \n",
       "\t9      0.075265          10  \n",
       "\t10     0.058400          11  \n",
       "\t11     0.054449          12  \n",
       "\t12     0.024118          13  \n",
       "\t13     0.024047          15  \n",
       "\t14     0.017974          16  \n",
       "\t15     0.016803          18  \n",
       "\t16     0.016198          19  \n",
       "\t17     0.016138          20  \n",
       "]"
      ]
     },
     "execution_count": 574,
     "metadata": {},
     "output_type": "execute_result"
    }
   ],
   "source": [
    "model"
   ]
  },
  {
   "cell_type": "code",
   "execution_count": 575,
   "id": "c4225956-c77e-4fde-90b2-86064b81ddc9",
   "metadata": {},
   "outputs": [
    {
     "data": {
      "text/latex": [
       "$\\displaystyle \\sqrt[4]{i} + \\frac{7.60 i}{k + 14.1}$"
      ],
      "text/plain": [
       "<IPython.core.display.Math object>"
      ]
     },
     "metadata": {},
     "output_type": "display_data"
    }
   ],
   "source": [
    "from IPython.display import Math, display\n",
    "\n",
    "display(Math(model.latex()))\n"
   ]
  },
  {
   "cell_type": "code",
   "execution_count": 582,
   "id": "4759358b-57e5-4994-aeb8-e104e6682e9d",
   "metadata": {},
   "outputs": [],
   "source": [
    "def approx_fun(k, i, V, x=(120,25,1)):\n",
    "    #return 1 + (5/2)*((5/3)*np.sqrt(i) + (1/3)*i - 2.0) / np.sqrt(k + i)\n",
    "    return np.sqrt( 1 + x[0]*(i - np.sqrt(i)) / (1*k + x[1]) )\n",
    "    #return 1 + 1.5 * (i + np.sqrt(i) - 2) / (0.1*k + 1)\n",
    "    #return model.predict([[k,i,V]])[0]\n",
    "\n",
    "approx_list = []\n",
    "approx_list_b = []\n",
    "for k, i, V in zip(k_list, avg_block_list, var_list):\n",
    "    approx_list.append(approx_fun(k,i,V))\n",
    "for k, i, V in zip(k_list_b, avg_block_list_b, var_list_b):\n",
    "    approx_list_b.append(approx_fun(k,i,V))"
   ]
  },
  {
   "cell_type": "code",
   "execution_count": 583,
   "id": "307b7477-120c-4a16-8f6a-9a3fc97b350c",
   "metadata": {
    "tags": []
   },
   "outputs": [],
   "source": [
    "def opt_fun(x):\n",
    "    return approx_fun(X[\"k\"], X[\"i\"], x) - y\n",
    "\n",
    "#opt = least_squares(opt_fun, [130,40,1])\n",
    "#opt"
   ]
  },
  {
   "cell_type": "code",
   "execution_count": 584,
   "id": "e0557c9b-7459-418f-b0ac-b4a191377235",
   "metadata": {},
   "outputs": [],
   "source": [
    "data = pd.DataFrame(\n",
    "    {\n",
    "        \"k\": k_list,\n",
    "        \"$N_i$\": block_size_list,\n",
    "        \"alpha\": derate_list,\n",
    "        \"approx\": approx_list,\n",
    "        \"limit\": limit_list,\n",
    "        \"ibar\": avg_block_list,\n",
    "    }\n",
    ")"
   ]
  },
  {
   "cell_type": "code",
   "execution_count": 585,
   "id": "6943e35c-ad6a-40fb-a6c7-1c4a57f42e7a",
   "metadata": {},
   "outputs": [],
   "source": [
    "data_b = pd.DataFrame(\n",
    "    {\n",
    "        \"k\": k_list_b,\n",
    "        \"$N_i$\": block_size_list_b,\n",
    "        \"alpha\": derate_list_b,\n",
    "        \"approx\": approx_list_b,\n",
    "        \"limit\": limit_list_b,\n",
    "        \"ibar\": avg_block_list_b,\n",
    "    }\n",
    ")"
   ]
  },
  {
   "cell_type": "code",
   "execution_count": 586,
   "id": "12fa8b9d-cd53-4aba-ad27-0d5df697e494",
   "metadata": {},
   "outputs": [
    {
     "data": {
      "image/png": "[encoded data removed]",
      "text/plain": [
       "<Figure size 432x288 with 1 Axes>"
      ]
     },
     "metadata": {
      "needs_background": "light"
     },
     "output_type": "display_data"
    }
   ],
   "source": [
    "pal = \"Set1\"\n",
    "sns.scatterplot(data, x=\"ibar\", y=\"alpha\", hue=\"k\", palette=pal, legend=False)\n",
    "sns.lineplot(\n",
    "    data,\n",
    "    x=\"ibar\",\n",
    "    y=\"approx\",\n",
    "    hue=\"k\",\n",
    "    marker=None,\n",
    "    palette=pal,\n",
    "    linestyle=\"dashed\",\n",
    "    legend=False,\n",
    ")\n",
    "sns.lineplot(data, x=\"ibar\", y=\"limit\", hue=\"k\", marker=\"v\", palette=pal)\n",
    "plt.xlabel(r\"$\\bar{\\imath}$\")\n",
    "plt.ylabel(r\"$\\alpha$\")\n",
    "plt.yscale(\"log\")\n",
    "plt.savefig(\"plots/derate-approx.pdf\")"
   ]
  },
  {
   "cell_type": "code",
   "execution_count": 587,
   "id": "528a8580-3021-49e2-96ac-b564dea06cf7",
   "metadata": {},
   "outputs": [
    {
     "data": {
      "image/png": "[encoded data removed]",
      "text/plain": [
       "<Figure size 432x288 with 1 Axes>"
      ]
     },
     "metadata": {
      "needs_background": "light"
     },
     "output_type": "display_data"
    }
   ],
   "source": [
    "pal = \"Set1\"\n",
    "sns.scatterplot(data_b, x=\"k\", y=\"alpha\", hue=\"$N_i$\", palette=pal, legend=False)\n",
    "sns.lineplot(\n",
    "    data_b,\n",
    "    x=\"k\",\n",
    "    y=\"approx\",\n",
    "    marker=None,\n",
    "    hue=\"$N_i$\",\n",
    "    palette=pal,\n",
    "    linestyle=\"dashed\",\n",
    "    legend=False,\n",
    ")\n",
    "sns.lineplot(data_b, x=\"k\", y=\"limit\", marker=\"v\", hue=\"$N_i$\", palette=pal)\n",
    "plt.xlabel(r\"$k$\")\n",
    "plt.ylabel(r\"$\\alpha$\")\n",
    "#plt.yscale(\"log\")\n",
    "plt.ylim(bottom=0)\n",
    "plt.savefig(\"plots/derate-approx-b.pdf\")"
   ]
  },
  {
   "cell_type": "code",
   "execution_count": null,
   "id": "2f7e4631-776a-4f7b-aeef-807a9d262235",
   "metadata": {},
   "outputs": [],
   "source": []
  },
  {
   "cell_type": "code",
   "execution_count": null,
   "id": "a6122c9e-0aa5-43fd-858c-ae527c9a17a7",
   "metadata": {},
   "outputs": [],
   "source": []
  }
 ],
 "metadata": {
  "kernelspec": {
   "display_name": "Python 3 (ipykernel)",
   "language": "python",
   "name": "python3"
  },
  "language_info": {
   "codemirror_mode": {
    "name": "ipython",
    "version": 3
   },
   "file_extension": ".py",
   "mimetype": "text/x-python",
   "name": "python",
   "nbconvert_exporter": "python",
   "pygments_lexer": "ipython3",
   "version": "3.8.10"
  }
 },
 "nbformat": 4,
 "nbformat_minor": 5
}
